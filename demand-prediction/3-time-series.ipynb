{
 "cells": [
  {
   "cell_type": "markdown",
   "metadata": {
    "toc": true
   },
   "source": [
    "<h1>Table of Contents<span class=\"tocSkip\"></span></h1>\n",
    "<div class=\"toc\"><ul class=\"toc-item\"><li><span><a href=\"#Time-series-for-demand-prediction\" data-toc-modified-id=\"Time-series-for-demand-prediction-1\">Time series for demand prediction</a></span></li></ul></div>"
   ]
  },
  {
   "cell_type": "markdown",
   "metadata": {},
   "source": [
    "# Time series for demand prediction"
   ]
  },
  {
   "cell_type": "code",
   "execution_count": 1,
   "metadata": {},
   "outputs": [],
   "source": [
    "%matplotlib inline\n",
    "import matplotlib.pyplot as plt\n",
    "\n",
    "import numpy as np\n",
    "import seaborn as sns\n",
    "from h3 import h3\n",
    "\n",
    "from pylab import rcParams\n",
    "rcParams['figure.figsize'] = (10, 7)\n",
    "\n",
    "import pandas as pd\n",
    "pd.set_option('max_columns', 40)\n",
    "pd.set_option('max_rows', 20)\n",
    "pd.set_option('precision', 3)"
   ]
  },
  {
   "cell_type": "code",
   "execution_count": 6,
   "metadata": {},
   "outputs": [
    {
     "name": "stdout",
     "output_type": "stream",
     "text": [
      "CPU times: user 9.54 s, sys: 18.1 s, total: 27.6 s\n",
      "Wall time: 1min 17s\n"
     ]
    },
    {
     "data": {
      "text/html": [
       "<div>\n",
       "<style scoped>\n",
       "    .dataframe tbody tr th:only-of-type {\n",
       "        vertical-align: middle;\n",
       "    }\n",
       "\n",
       "    .dataframe tbody tr th {\n",
       "        vertical-align: top;\n",
       "    }\n",
       "\n",
       "    .dataframe thead th {\n",
       "        text-align: right;\n",
       "    }\n",
       "</style>\n",
       "<table border=\"1\" class=\"dataframe\">\n",
       "  <thead>\n",
       "    <tr style=\"text-align: right;\">\n",
       "      <th></th>\n",
       "      <th>datetime</th>\n",
       "      <th>lon</th>\n",
       "      <th>lat</th>\n",
       "      <th>h3_res8</th>\n",
       "    </tr>\n",
       "  </thead>\n",
       "  <tbody>\n",
       "    <tr>\n",
       "      <th>61707763</th>\n",
       "      <td>2015-06-23 22:16:06</td>\n",
       "      <td>-73.998</td>\n",
       "      <td>40.740</td>\n",
       "      <td>882a100d25fffff</td>\n",
       "    </tr>\n",
       "    <tr>\n",
       "      <th>30160889</th>\n",
       "      <td>2015-03-27 07:30:02</td>\n",
       "      <td>-73.960</td>\n",
       "      <td>40.763</td>\n",
       "      <td>882a100d45fffff</td>\n",
       "    </tr>\n",
       "    <tr>\n",
       "      <th>9324765</th>\n",
       "      <td>2015-01-29 12:32:48</td>\n",
       "      <td>-74.009</td>\n",
       "      <td>40.706</td>\n",
       "      <td>882a107289fffff</td>\n",
       "    </tr>\n",
       "    <tr>\n",
       "      <th>10826857</th>\n",
       "      <td>2015-02-02 10:17:50</td>\n",
       "      <td>-73.986</td>\n",
       "      <td>40.767</td>\n",
       "      <td>882a1008b3fffff</td>\n",
       "    </tr>\n",
       "    <tr>\n",
       "      <th>23664750</th>\n",
       "      <td>2015-03-09 07:59:06</td>\n",
       "      <td>-73.936</td>\n",
       "      <td>40.796</td>\n",
       "      <td>882a1008dbfffff</td>\n",
       "    </tr>\n",
       "  </tbody>\n",
       "</table>\n",
       "</div>"
      ],
      "text/plain": [
       "                    datetime     lon     lat          h3_res8\n",
       "61707763 2015-06-23 22:16:06 -73.998  40.740  882a100d25fffff\n",
       "30160889 2015-03-27 07:30:02 -73.960  40.763  882a100d45fffff\n",
       "9324765  2015-01-29 12:32:48 -74.009  40.706  882a107289fffff\n",
       "10826857 2015-02-02 10:17:50 -73.986  40.767  882a1008b3fffff\n",
       "23664750 2015-03-09 07:59:06 -73.936  40.796  882a1008dbfffff"
      ]
     },
     "execution_count": 6,
     "metadata": {},
     "output_type": "execute_result"
    }
   ],
   "source": [
    "%%time\n",
    "\n",
    "data = pd.read_feather('clean_data.feather', columns=[\n",
    "                       'datetime', 'lon', 'lat', 'h3_res8'])\n",
    "\n",
    "data = data.sample(100000)\n",
    "\n",
    "data.head()"
   ]
  },
  {
   "cell_type": "code",
   "execution_count": null,
   "metadata": {},
   "outputs": [],
   "source": []
  }
 ],
 "metadata": {
  "kernelspec": {
   "display_name": "Python 3",
   "language": "python",
   "name": "python3"
  },
  "language_info": {
   "codemirror_mode": {
    "name": "ipython",
    "version": 3
   },
   "file_extension": ".py",
   "mimetype": "text/x-python",
   "name": "python",
   "nbconvert_exporter": "python",
   "pygments_lexer": "ipython3",
   "version": "3.7.6"
  },
  "toc": {
   "base_numbering": 1,
   "nav_menu": {},
   "number_sections": false,
   "sideBar": true,
   "skip_h1_title": false,
   "title_cell": "Table of Contents",
   "title_sidebar": "Contents",
   "toc_cell": true,
   "toc_position": {},
   "toc_section_display": true,
   "toc_window_display": true
  },
  "varInspector": {
   "cols": {
    "lenName": 16,
    "lenType": 16,
    "lenVar": 40
   },
   "kernels_config": {
    "python": {
     "delete_cmd_postfix": "",
     "delete_cmd_prefix": "del ",
     "library": "var_list.py",
     "varRefreshCmd": "print(var_dic_list())"
    },
    "r": {
     "delete_cmd_postfix": ") ",
     "delete_cmd_prefix": "rm(",
     "library": "var_list.r",
     "varRefreshCmd": "cat(var_dic_list()) "
    }
   },
   "types_to_exclude": [
    "module",
    "function",
    "builtin_function_or_method",
    "instance",
    "_Feature"
   ],
   "window_display": false
  }
 },
 "nbformat": 4,
 "nbformat_minor": 4
}
