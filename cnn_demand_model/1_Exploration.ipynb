{
 "cells": [
  {
   "cell_type": "markdown",
   "metadata": {
    "toc": true
   },
   "source": [
    "<h1>Table of Contents<span class=\"tocSkip\"></span></h1>\n",
    "<div class=\"toc\"><ul class=\"toc-item\"><li><span><a href=\"#Exploration\" data-toc-modified-id=\"Exploration-1\">Exploration</a></span><ul class=\"toc-item\"><li><span><a href=\"#Prepare-data\" data-toc-modified-id=\"Prepare-data-1.1\">Prepare data</a></span><ul class=\"toc-item\"><li><span><a href=\"#Read-file\" data-toc-modified-id=\"Read-file-1.1.1\">Read file</a></span></li><li><span><a href=\"#Sample-data\" data-toc-modified-id=\"Sample-data-1.1.2\">Sample data</a></span></li><li><span><a href=\"#Change-columns\" data-toc-modified-id=\"Change-columns-1.1.3\">Change columns</a></span></li></ul></li><li><span><a href=\"#Coordinates\" data-toc-modified-id=\"Coordinates-1.2\">Coordinates</a></span></li></ul></li></ul></div>"
   ]
  },
  {
   "cell_type": "markdown",
   "metadata": {},
   "source": [
    "# Exploration"
   ]
  },
  {
   "cell_type": "code",
   "execution_count": 49,
   "metadata": {},
   "outputs": [],
   "source": [
    "%matplotlib inline\n",
    "import matplotlib.pyplot as plt\n",
    "\n",
    "import numpy as np\n",
    "import seaborn as sns\n",
    "\n",
    "from pylab import rcParams\n",
    "rcParams['figure.figsize'] = (10, 7)\n",
    "\n",
    "import pandas as pd\n",
    "pd.set_option('max_columns', 40)\n",
    "pd.set_option('max_rows', 20)\n",
    "pd.set_option('precision', 3)"
   ]
  },
  {
   "cell_type": "markdown",
   "metadata": {},
   "source": [
    "## Prepare data"
   ]
  },
  {
   "cell_type": "markdown",
   "metadata": {},
   "source": [
    "### Read file"
   ]
  },
  {
   "cell_type": "code",
   "execution_count": 13,
   "metadata": {},
   "outputs": [
    {
     "name": "stdout",
     "output_type": "stream",
     "text": [
      "Dataset shape: (65783796, 8)\n",
      "\n",
      "CPU times: user 3.16 s, sys: 13.1 s, total: 16.2 s\n",
      "Wall time: 45.3 s\n"
     ]
    },
    {
     "data": {
      "text/html": [
       "<div>\n",
       "<style scoped>\n",
       "    .dataframe tbody tr th:only-of-type {\n",
       "        vertical-align: middle;\n",
       "    }\n",
       "\n",
       "    .dataframe tbody tr th {\n",
       "        vertical-align: top;\n",
       "    }\n",
       "\n",
       "    .dataframe thead th {\n",
       "        text-align: right;\n",
       "    }\n",
       "</style>\n",
       "<table border=\"1\" class=\"dataframe\">\n",
       "  <thead>\n",
       "    <tr style=\"text-align: right;\">\n",
       "      <th></th>\n",
       "      <th>pickup_datetime</th>\n",
       "      <th>dropoff_datetime</th>\n",
       "      <th>passenger_count</th>\n",
       "      <th>distance</th>\n",
       "      <th>pickup_lon</th>\n",
       "      <th>pickup_lat</th>\n",
       "      <th>dropoff_lon</th>\n",
       "      <th>dropoff_lat</th>\n",
       "    </tr>\n",
       "  </thead>\n",
       "  <tbody>\n",
       "    <tr>\n",
       "      <th>0</th>\n",
       "      <td>2015-01-01 00:00:00</td>\n",
       "      <td>2015-01-01 00:00:00</td>\n",
       "      <td>3</td>\n",
       "      <td>2.511</td>\n",
       "      <td>-74.001</td>\n",
       "      <td>40.729</td>\n",
       "      <td>-74.010</td>\n",
       "      <td>40.720</td>\n",
       "    </tr>\n",
       "    <tr>\n",
       "      <th>1</th>\n",
       "      <td>2015-01-01 00:00:00</td>\n",
       "      <td>2015-01-01 00:11:26</td>\n",
       "      <td>5</td>\n",
       "      <td>6.437</td>\n",
       "      <td>-73.971</td>\n",
       "      <td>40.760</td>\n",
       "      <td>-73.921</td>\n",
       "      <td>40.768</td>\n",
       "    </tr>\n",
       "    <tr>\n",
       "      <th>2</th>\n",
       "      <td>2015-01-01 00:00:03</td>\n",
       "      <td>2015-01-01 00:10:50</td>\n",
       "      <td>1</td>\n",
       "      <td>2.543</td>\n",
       "      <td>-73.988</td>\n",
       "      <td>40.765</td>\n",
       "      <td>-73.977</td>\n",
       "      <td>40.777</td>\n",
       "    </tr>\n",
       "  </tbody>\n",
       "</table>\n",
       "</div>"
      ],
      "text/plain": [
       "      pickup_datetime    dropoff_datetime  passenger_count  distance  \\\n",
       "0 2015-01-01 00:00:00 2015-01-01 00:00:00                3     2.511   \n",
       "1 2015-01-01 00:00:00 2015-01-01 00:11:26                5     6.437   \n",
       "2 2015-01-01 00:00:03 2015-01-01 00:10:50                1     2.543   \n",
       "\n",
       "   pickup_lon  pickup_lat  dropoff_lon  dropoff_lat  \n",
       "0     -74.001      40.729      -74.010       40.720  \n",
       "1     -73.971      40.760      -73.921       40.768  \n",
       "2     -73.988      40.765      -73.977       40.777  "
      ]
     },
     "execution_count": 13,
     "metadata": {},
     "output_type": "execute_result"
    }
   ],
   "source": [
    "%%time \n",
    "\n",
    "data = pd.read_feather('../data/data.feather')\n",
    "\n",
    "print(f'Dataset shape: {data.shape}\\n')\n",
    "data.head(3)"
   ]
  },
  {
   "cell_type": "code",
   "execution_count": 11,
   "metadata": {},
   "outputs": [
    {
     "name": "stdout",
     "output_type": "stream",
     "text": [
      "<class 'pandas.core.frame.DataFrame'>\n",
      "RangeIndex: 65783796 entries, 0 to 65783795\n",
      "Data columns (total 8 columns):\n",
      " #   Column            Dtype         \n",
      "---  ------            -----         \n",
      " 0   pickup_datetime   datetime64[ns]\n",
      " 1   dropoff_datetime  datetime64[ns]\n",
      " 2   passenger_count   int64         \n",
      " 3   distance          float64       \n",
      " 4   pickup_lon        float64       \n",
      " 5   pickup_lat        float64       \n",
      " 6   dropoff_lon       float64       \n",
      " 7   dropoff_lat       float64       \n",
      "dtypes: datetime64[ns](2), float64(5), int64(1)\n",
      "memory usage: 3.9 GB\n"
     ]
    }
   ],
   "source": [
    "data.info()"
   ]
  },
  {
   "cell_type": "markdown",
   "metadata": {},
   "source": [
    "### Sample data\n",
    "\n",
    "Memory usage: **3.9GB**. Let's take a sample to reduce the memory cosumption"
   ]
  },
  {
   "cell_type": "code",
   "execution_count": 14,
   "metadata": {},
   "outputs": [
    {
     "name": "stdout",
     "output_type": "stream",
     "text": [
      "<class 'pandas.core.frame.DataFrame'>\n",
      "RangeIndex: 1000000 entries, 0 to 999999\n",
      "Data columns (total 8 columns):\n",
      " #   Column            Non-Null Count    Dtype         \n",
      "---  ------            --------------    -----         \n",
      " 0   pickup_datetime   1000000 non-null  datetime64[ns]\n",
      " 1   dropoff_datetime  1000000 non-null  datetime64[ns]\n",
      " 2   passenger_count   1000000 non-null  int64         \n",
      " 3   distance          1000000 non-null  float64       \n",
      " 4   pickup_lon        1000000 non-null  float64       \n",
      " 5   pickup_lat        1000000 non-null  float64       \n",
      " 6   dropoff_lon       1000000 non-null  float64       \n",
      " 7   dropoff_lat       1000000 non-null  float64       \n",
      "dtypes: datetime64[ns](2), float64(5), int64(1)\n",
      "memory usage: 61.0 MB\n",
      "CPU times: user 5.34 s, sys: 8.98 s, total: 14.3 s\n",
      "Wall time: 22.1 s\n"
     ]
    }
   ],
   "source": [
    "%%time\n",
    "\n",
    "sample_size = 1000000\n",
    "seed = 234\n",
    "\n",
    "np.random.seed(seed)\n",
    "\n",
    "if data.shape[0] > sample_size:\n",
    "    data = data.sample(sample_size).reset_index(drop=True)\n",
    "\n",
    "data.info()"
   ]
  },
  {
   "cell_type": "markdown",
   "metadata": {},
   "source": [
    "### Change columns\n",
    "\n",
    "In this exercise we are interested only in pickup locations and pickup time. Other columns are not needed and I will drop them"
   ]
  },
  {
   "cell_type": "code",
   "execution_count": 43,
   "metadata": {},
   "outputs": [
    {
     "data": {
      "text/html": [
       "<div>\n",
       "<style scoped>\n",
       "    .dataframe tbody tr th:only-of-type {\n",
       "        vertical-align: middle;\n",
       "    }\n",
       "\n",
       "    .dataframe tbody tr th {\n",
       "        vertical-align: top;\n",
       "    }\n",
       "\n",
       "    .dataframe thead th {\n",
       "        text-align: right;\n",
       "    }\n",
       "</style>\n",
       "<table border=\"1\" class=\"dataframe\">\n",
       "  <thead>\n",
       "    <tr style=\"text-align: right;\">\n",
       "      <th></th>\n",
       "      <th>datetime</th>\n",
       "      <th>lon</th>\n",
       "      <th>lat</th>\n",
       "    </tr>\n",
       "  </thead>\n",
       "  <tbody>\n",
       "    <tr>\n",
       "      <th>0</th>\n",
       "      <td>2015-02-03 06:53:45</td>\n",
       "      <td>-73.977</td>\n",
       "      <td>40.749</td>\n",
       "    </tr>\n",
       "    <tr>\n",
       "      <th>1</th>\n",
       "      <td>2015-01-28 06:51:39</td>\n",
       "      <td>-73.976</td>\n",
       "      <td>40.748</td>\n",
       "    </tr>\n",
       "    <tr>\n",
       "      <th>2</th>\n",
       "      <td>2015-06-26 08:35:58</td>\n",
       "      <td>-73.976</td>\n",
       "      <td>40.792</td>\n",
       "    </tr>\n",
       "  </tbody>\n",
       "</table>\n",
       "</div>"
      ],
      "text/plain": [
       "             datetime     lon     lat\n",
       "0 2015-02-03 06:53:45 -73.977  40.749\n",
       "1 2015-01-28 06:51:39 -73.976  40.748\n",
       "2 2015-06-26 08:35:58 -73.976  40.792"
      ]
     },
     "execution_count": 43,
     "metadata": {},
     "output_type": "execute_result"
    }
   ],
   "source": [
    "def drop_columns(data: pd.DataFrame, rename_columns: dict) -> None:\n",
    "    drop_columns = [\n",
    "        'dropoff_datetime',\n",
    "        'passenger_count',\n",
    "        'distance',    \n",
    "        'dropoff_lon',\n",
    "        'dropoff_lat'\n",
    "    ]\n",
    "    \n",
    "    # drop only of columns are still in the dataset\n",
    "    if drop_columns[0] in data.columns:\n",
    "        data.drop(drop_columns, axis=1, inplace=True)\n",
    "        \n",
    "    data.rename(columns=rename_columns, inplace=True)\n",
    "\n",
    "drop_columns(data, {\n",
    "    'pickup_datetime': 'datetime',\n",
    "    'pickup_lat': 'lat',\n",
    "    'pickup_lon': 'lon'\n",
    "})\n",
    "\n",
    "data.head(3)"
   ]
  },
  {
   "cell_type": "markdown",
   "metadata": {},
   "source": [
    "## Coordinates"
   ]
  },
  {
   "cell_type": "code",
   "execution_count": 87,
   "metadata": {},
   "outputs": [
    {
     "data": {
      "image/png": "[encoded data removed]",
      "text/plain": [
       "<Figure size 576x576 with 3 Axes>"
      ]
     },
     "metadata": {
      "needs_background": "light"
     },
     "output_type": "display_data"
    }
   ],
   "source": [
    "sns.jointplot(data=data, x='lon', y='lat', kind='hex', height=8);\n",
    "\n",
    "plt.suptitle('Distribution of coordinates');\n",
    "plt.subplots_adjust(top=0.9);"
   ]
  },
  {
   "cell_type": "code",
   "execution_count": null,
   "metadata": {},
   "outputs": [],
   "source": []
  },
  {
   "cell_type": "code",
   "execution_count": null,
   "metadata": {},
   "outputs": [],
   "source": []
  }
 ],
 "metadata": {
  "kernelspec": {
   "display_name": "Python 3",
   "language": "python",
   "name": "python3"
  },
  "language_info": {
   "codemirror_mode": {
    "name": "ipython",
    "version": 3
   },
   "file_extension": ".py",
   "mimetype": "text/x-python",
   "name": "python",
   "nbconvert_exporter": "python",
   "pygments_lexer": "ipython3",
   "version": "3.7.6"
  },
  "toc": {
   "base_numbering": 1,
   "nav_menu": {},
   "number_sections": false,
   "sideBar": true,
   "skip_h1_title": false,
   "title_cell": "Table of Contents",
   "title_sidebar": "Contents",
   "toc_cell": true,
   "toc_position": {},
   "toc_section_display": true,
   "toc_window_display": true
  },
  "varInspector": {
   "cols": {
    "lenName": 16,
    "lenType": 16,
    "lenVar": 40
   },
   "kernels_config": {
    "python": {
     "delete_cmd_postfix": "",
     "delete_cmd_prefix": "del ",
     "library": "var_list.py",
     "varRefreshCmd": "print(var_dic_list())"
    },
    "r": {
     "delete_cmd_postfix": ") ",
     "delete_cmd_prefix": "rm(",
     "library": "var_list.r",
     "varRefreshCmd": "cat(var_dic_list()) "
    }
   },
   "types_to_exclude": [
    "module",
    "function",
    "builtin_function_or_method",
    "instance",
    "_Feature"
   ],
   "window_display": false
  }
 },
 "nbformat": 4,
 "nbformat_minor": 4
}
