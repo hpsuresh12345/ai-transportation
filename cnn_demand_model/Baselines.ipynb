{
 "cells": [
  {
   "cell_type": "markdown",
   "metadata": {
    "toc": true
   },
   "source": [
    "<h1>Table of Contents<span class=\"tocSkip\"></span></h1>\n",
    "<div class=\"toc\"><ul class=\"toc-item\"><li><span><a href=\"#Goal\" data-toc-modified-id=\"Goal-1\">Goal</a></span></li><li><span><a href=\"#Baselines\" data-toc-modified-id=\"Baselines-2\">Baselines</a></span><ul class=\"toc-item\"><li><span><a href=\"#Motivation\" data-toc-modified-id=\"Motivation-2.1\">Motivation</a></span></li></ul></li><li><span><a href=\"#Prepare-data\" data-toc-modified-id=\"Prepare-data-3\">Prepare data</a></span><ul class=\"toc-item\"><li><span><a href=\"#Limit-to-a-smaller-area\" data-toc-modified-id=\"Limit-to-a-smaller-area-3.1\">Limit to a smaller area</a></span></li><li><span><a href=\"#Round-time\" data-toc-modified-id=\"Round-time-3.2\">Round time</a></span></li><li><span><a href=\"#Number-of-requests\" data-toc-modified-id=\"Number-of-requests-3.3\">Number of requests</a></span></li><li><span><a href=\"#Create-grid\" data-toc-modified-id=\"Create-grid-3.4\">Create grid</a></span><ul class=\"toc-item\"><li><span><a href=\"#Area-size\" data-toc-modified-id=\"Area-size-3.4.1\">Area size</a></span></li><li><span><a href=\"#Cells\" data-toc-modified-id=\"Cells-3.4.2\">Cells</a></span></li></ul></li></ul></li><li><span><a href=\"#Total-demand\" data-toc-modified-id=\"Total-demand-4\">Total demand</a></span><ul class=\"toc-item\"><li><span><a href=\"#Daily-demand\" data-toc-modified-id=\"Daily-demand-4.1\">Daily demand</a></span><ul class=\"toc-item\"><li><span><a href=\"#Aggregation\" data-toc-modified-id=\"Aggregation-4.1.1\">Aggregation</a></span></li><li><span><a href=\"#Remove-outliers\" data-toc-modified-id=\"Remove-outliers-4.1.2\">Remove outliers</a></span></li><li><span><a href=\"#Seasonal-plot\" data-toc-modified-id=\"Seasonal-plot-4.1.3\">Seasonal plot</a></span></li><li><span><a href=\"#Prediction\" data-toc-modified-id=\"Prediction-4.1.4\">Prediction</a></span><ul class=\"toc-item\"><li><span><a href=\"#Features\" data-toc-modified-id=\"Features-4.1.4.1\">Features</a></span></li><li><span><a href=\"#Model\" data-toc-modified-id=\"Model-4.1.4.2\">Model</a></span></li></ul></li></ul></li><li><span><a href=\"#Time-series-analysis\" data-toc-modified-id=\"Time-series-analysis-4.2\">Time series analysis</a></span><ul class=\"toc-item\"><li><span><a href=\"#Trend-and-seasonality\" data-toc-modified-id=\"Trend-and-seasonality-4.2.1\">Trend and seasonality</a></span></li><li><span><a href=\"#Stationarity\" data-toc-modified-id=\"Stationarity-4.2.2\">Stationarity</a></span></li></ul></li><li><span><a href=\"#Seasonal-plot\" data-toc-modified-id=\"Seasonal-plot-4.3\">Seasonal plot</a></span></li></ul></li></ul></div>"
   ]
  },
  {
   "cell_type": "markdown",
   "metadata": {},
   "source": [
    "# Goal\n",
    "\n",
    "Predict demand in a particular area:\n",
    "\n",
    "- for the next 15 minutes\n",
    "- for the next 2 hours\n",
    "- for the next day:\n",
    "    - from 5am to 2pm\n",
    "    - from 2pm to 6m\n",
    "    - from 6pm to 11pm"
   ]
  },
  {
   "cell_type": "markdown",
   "metadata": {},
   "source": [
    "# Baselines\n",
    "\n",
    "\n",
    "## Motivation\n",
    "\n",
    "Create a set of baselines for demand prediction using conventional methods:\n",
    "\n",
    "* time series prediction\n",
    "* per cell prediction using any type of regressor, e.g. gradient boosting regressor"
   ]
  },
  {
   "cell_type": "markdown",
   "metadata": {},
   "source": [
    "# Prepare data"
   ]
  },
  {
   "cell_type": "code",
   "execution_count": 2,
   "metadata": {},
   "outputs": [],
   "source": [
    "%matplotlib inline\n",
    "\n",
    "import matplotlib.pyplot as plt\n",
    "import pandas as pd\n",
    "import numpy as np\n",
    "import seaborn as sns\n",
    "\n",
    "from pylab import rcParams\n",
    "rcParams['figure.figsize'] = (10, 4)"
   ]
  },
  {
   "cell_type": "code",
   "execution_count": 3,
   "metadata": {},
   "outputs": [
    {
     "name": "stdout",
     "output_type": "stream",
     "text": [
      "Dataset shape: (65783796, 8)\n",
      "\n",
      "CPU times: user 3.08 s, sys: 12.9 s, total: 16 s\n",
      "Wall time: 30.9 s\n"
     ]
    },
    {
     "data": {
      "text/html": [
       "<div>\n",
       "<style scoped>\n",
       "    .dataframe tbody tr th:only-of-type {\n",
       "        vertical-align: middle;\n",
       "    }\n",
       "\n",
       "    .dataframe tbody tr th {\n",
       "        vertical-align: top;\n",
       "    }\n",
       "\n",
       "    .dataframe thead th {\n",
       "        text-align: right;\n",
       "    }\n",
       "</style>\n",
       "<table border=\"1\" class=\"dataframe\">\n",
       "  <thead>\n",
       "    <tr style=\"text-align: right;\">\n",
       "      <th></th>\n",
       "      <th>pickup_datetime</th>\n",
       "      <th>dropoff_datetime</th>\n",
       "      <th>passenger_count</th>\n",
       "      <th>distance</th>\n",
       "      <th>pickup_lon</th>\n",
       "      <th>pickup_lat</th>\n",
       "      <th>dropoff_lon</th>\n",
       "      <th>dropoff_lat</th>\n",
       "    </tr>\n",
       "  </thead>\n",
       "  <tbody>\n",
       "    <tr>\n",
       "      <th>0</th>\n",
       "      <td>2015-01-01 00:00:00</td>\n",
       "      <td>2015-01-01 00:00:00</td>\n",
       "      <td>3</td>\n",
       "      <td>2.510570</td>\n",
       "      <td>-74.001320</td>\n",
       "      <td>40.729057</td>\n",
       "      <td>-74.010208</td>\n",
       "      <td>40.719662</td>\n",
       "    </tr>\n",
       "    <tr>\n",
       "      <th>1</th>\n",
       "      <td>2015-01-01 00:00:00</td>\n",
       "      <td>2015-01-01 00:11:26</td>\n",
       "      <td>5</td>\n",
       "      <td>6.437360</td>\n",
       "      <td>-73.971436</td>\n",
       "      <td>40.760201</td>\n",
       "      <td>-73.921181</td>\n",
       "      <td>40.768269</td>\n",
       "    </tr>\n",
       "    <tr>\n",
       "      <th>2</th>\n",
       "      <td>2015-01-01 00:00:03</td>\n",
       "      <td>2015-01-01 00:10:50</td>\n",
       "      <td>1</td>\n",
       "      <td>2.542757</td>\n",
       "      <td>-73.987579</td>\n",
       "      <td>40.765270</td>\n",
       "      <td>-73.976921</td>\n",
       "      <td>40.776970</td>\n",
       "    </tr>\n",
       "  </tbody>\n",
       "</table>\n",
       "</div>"
      ],
      "text/plain": [
       "      pickup_datetime    dropoff_datetime  passenger_count  distance  \\\n",
       "0 2015-01-01 00:00:00 2015-01-01 00:00:00                3  2.510570   \n",
       "1 2015-01-01 00:00:00 2015-01-01 00:11:26                5  6.437360   \n",
       "2 2015-01-01 00:00:03 2015-01-01 00:10:50                1  2.542757   \n",
       "\n",
       "   pickup_lon  pickup_lat  dropoff_lon  dropoff_lat  \n",
       "0  -74.001320   40.729057   -74.010208    40.719662  \n",
       "1  -73.971436   40.760201   -73.921181    40.768269  \n",
       "2  -73.987579   40.765270   -73.976921    40.776970  "
      ]
     },
     "execution_count": 3,
     "metadata": {},
     "output_type": "execute_result"
    }
   ],
   "source": [
    "%%time \n",
    "\n",
    "raw_data = pd.read_feather('../data/data.feather')\n",
    "\n",
    "print(f'Dataset shape: {raw_data.shape}\\n')\n",
    "raw_data.head(3)"
   ]
  },
  {
   "cell_type": "code",
   "execution_count": null,
   "metadata": {},
   "outputs": [],
   "source": []
  },
  {
   "cell_type": "code",
   "execution_count": 4,
   "metadata": {},
   "outputs": [
    {
     "data": {
      "text/html": [
       "<div>\n",
       "<style scoped>\n",
       "    .dataframe tbody tr th:only-of-type {\n",
       "        vertical-align: middle;\n",
       "    }\n",
       "\n",
       "    .dataframe tbody tr th {\n",
       "        vertical-align: top;\n",
       "    }\n",
       "\n",
       "    .dataframe thead th {\n",
       "        text-align: right;\n",
       "    }\n",
       "</style>\n",
       "<table border=\"1\" class=\"dataframe\">\n",
       "  <thead>\n",
       "    <tr style=\"text-align: right;\">\n",
       "      <th></th>\n",
       "      <th>datetime</th>\n",
       "      <th>lon</th>\n",
       "      <th>lat</th>\n",
       "    </tr>\n",
       "  </thead>\n",
       "  <tbody>\n",
       "    <tr>\n",
       "      <th>0</th>\n",
       "      <td>2015-01-01 00:00:00</td>\n",
       "      <td>-74.001320</td>\n",
       "      <td>40.729057</td>\n",
       "    </tr>\n",
       "    <tr>\n",
       "      <th>1</th>\n",
       "      <td>2015-01-01 00:00:00</td>\n",
       "      <td>-73.971436</td>\n",
       "      <td>40.760201</td>\n",
       "    </tr>\n",
       "    <tr>\n",
       "      <th>2</th>\n",
       "      <td>2015-01-01 00:00:03</td>\n",
       "      <td>-73.987579</td>\n",
       "      <td>40.765270</td>\n",
       "    </tr>\n",
       "  </tbody>\n",
       "</table>\n",
       "</div>"
      ],
      "text/plain": [
       "             datetime        lon        lat\n",
       "0 2015-01-01 00:00:00 -74.001320  40.729057\n",
       "1 2015-01-01 00:00:00 -73.971436  40.760201\n",
       "2 2015-01-01 00:00:03 -73.987579  40.765270"
      ]
     },
     "execution_count": 4,
     "metadata": {},
     "output_type": "execute_result"
    }
   ],
   "source": [
    "raw_data.drop(['dropoff_datetime', 'passenger_count', 'distance',\n",
    "           'dropoff_lon', 'dropoff_lat'], axis=1, inplace=True)\n",
    "\n",
    "raw_data.columns = ['datetime', 'lon', 'lat']\n",
    "\n",
    "raw_data.head(3)"
   ]
  },
  {
   "cell_type": "code",
   "execution_count": 5,
   "metadata": {},
   "outputs": [
    {
     "data": {
      "text/plain": [
       "datetime\n",
       "April       11149321\n",
       "February    10684310\n",
       "January     11003793\n",
       "June        10476187\n",
       "March       11344679\n",
       "May         11125506\n",
       "Name: datetime, dtype: int64"
      ]
     },
     "execution_count": 5,
     "metadata": {},
     "output_type": "execute_result"
    }
   ],
   "source": [
    "raw_data.groupby(raw_data.datetime.dt.month_name()).datetime.count()"
   ]
  },
  {
   "cell_type": "code",
   "execution_count": 6,
   "metadata": {},
   "outputs": [
    {
     "data": {
      "text/plain": [
       "count    6.578380e+07\n",
       "mean    -7.398129e+01\n",
       "std      1.672455e-02\n",
       "min     -7.402862e+01\n",
       "25%     -7.399256e+01\n",
       "50%     -7.398251e+01\n",
       "75%     -7.397061e+01\n",
       "max     -7.391499e+01\n",
       "Name: lon, dtype: float64"
      ]
     },
     "execution_count": 6,
     "metadata": {},
     "output_type": "execute_result"
    }
   ],
   "source": [
    "raw_data.lon.describe()"
   ]
  },
  {
   "cell_type": "code",
   "execution_count": 7,
   "metadata": {},
   "outputs": [
    {
     "data": {
      "image/png": "[encoded data removed]",
      "text/plain": [
       "<Figure size 720x432 with 1 Axes>"
      ]
     },
     "metadata": {
      "needs_background": "light"
     },
     "output_type": "display_data"
    }
   ],
   "source": [
    "plt.figure(figsize=(10, 6))\n",
    "\n",
    "sample = raw_data.sample(100000)\n",
    "\n",
    "plt.hist2d(sample.lon, sample.lat, bins=100);\n",
    "plt.title('lon/lat histogram');\n",
    "plt.xlabel('lon');\n",
    "plt.ylabel('lat');"
   ]
  },
  {
   "cell_type": "markdown",
   "metadata": {
    "hide_input": false
   },
   "source": [
    "## Limit to a smaller area\n",
    "\n",
    "Use area selected manually using http://geojson.io/#map=15/40.7357/-73.9889"
   ]
  },
  {
   "cell_type": "code",
   "execution_count": 8,
   "metadata": {},
   "outputs": [
    {
     "name": "stdout",
     "output_type": "stream",
     "text": [
      "Dataset size: 65783796\n",
      "Sample size: 4178083\n"
     ]
    }
   ],
   "source": [
    "bbox = ((-73.996, -73.9817), (40.7308, 40.7416))\n",
    "\n",
    "(min_lon, max_lon), (min_lat, max_lat) = bbox\n",
    "\n",
    "idx = (raw_data.lat >= min_lat) & (raw_data.lat <= max_lat)\n",
    "idx = idx & (raw_data.lon >= min_lon) & (raw_data.lon <= max_lon)\n",
    "\n",
    "print(f'Dataset size: {raw_data.shape[0]}')\n",
    "print(f'Sample size: {idx.sum()}')\n",
    "\n",
    "data = raw_data[idx].reset_index(drop=True)"
   ]
  },
  {
   "cell_type": "markdown",
   "metadata": {},
   "source": [
    "Demand per day stats:"
   ]
  },
  {
   "cell_type": "code",
   "execution_count": 9,
   "metadata": {
    "scrolled": true
   },
   "outputs": [
    {
     "data": {
      "text/plain": [
       "count      181.000000\n",
       "mean     23083.331492\n",
       "std       3587.589954\n",
       "min       7721.000000\n",
       "25%      21048.000000\n",
       "50%      23231.000000\n",
       "75%      24887.000000\n",
       "max      34103.000000\n",
       "Name: datetime, dtype: float64"
      ]
     },
     "execution_count": 9,
     "metadata": {},
     "output_type": "execute_result"
    }
   ],
   "source": [
    "data.datetime.dt.date.value_counts().describe()"
   ]
  },
  {
   "cell_type": "code",
   "execution_count": null,
   "metadata": {},
   "outputs": [],
   "source": []
  },
  {
   "cell_type": "markdown",
   "metadata": {},
   "source": [
    "## Round time"
   ]
  },
  {
   "cell_type": "code",
   "execution_count": 10,
   "metadata": {},
   "outputs": [
    {
     "data": {
      "text/html": [
       "<div>\n",
       "<style scoped>\n",
       "    .dataframe tbody tr th:only-of-type {\n",
       "        vertical-align: middle;\n",
       "    }\n",
       "\n",
       "    .dataframe tbody tr th {\n",
       "        vertical-align: top;\n",
       "    }\n",
       "\n",
       "    .dataframe thead th {\n",
       "        text-align: right;\n",
       "    }\n",
       "</style>\n",
       "<table border=\"1\" class=\"dataframe\">\n",
       "  <thead>\n",
       "    <tr style=\"text-align: right;\">\n",
       "      <th></th>\n",
       "      <th>datetime</th>\n",
       "      <th>lon</th>\n",
       "      <th>lat</th>\n",
       "    </tr>\n",
       "  </thead>\n",
       "  <tbody>\n",
       "    <tr>\n",
       "      <th>3868841</th>\n",
       "      <td>2015-06-16 13:45:00</td>\n",
       "      <td>-73.991699</td>\n",
       "      <td>40.731258</td>\n",
       "    </tr>\n",
       "    <tr>\n",
       "      <th>3493253</th>\n",
       "      <td>2015-05-30 02:15:00</td>\n",
       "      <td>-73.993813</td>\n",
       "      <td>40.741573</td>\n",
       "    </tr>\n",
       "    <tr>\n",
       "      <th>2369471</th>\n",
       "      <td>2015-04-10 16:15:00</td>\n",
       "      <td>-73.990044</td>\n",
       "      <td>40.735050</td>\n",
       "    </tr>\n",
       "    <tr>\n",
       "      <th>1273943</th>\n",
       "      <td>2015-02-23 14:30:00</td>\n",
       "      <td>-73.994194</td>\n",
       "      <td>40.740959</td>\n",
       "    </tr>\n",
       "    <tr>\n",
       "      <th>1368246</th>\n",
       "      <td>2015-02-27 09:00:00</td>\n",
       "      <td>-73.986656</td>\n",
       "      <td>40.739693</td>\n",
       "    </tr>\n",
       "  </tbody>\n",
       "</table>\n",
       "</div>"
      ],
      "text/plain": [
       "                   datetime        lon        lat\n",
       "3868841 2015-06-16 13:45:00 -73.991699  40.731258\n",
       "3493253 2015-05-30 02:15:00 -73.993813  40.741573\n",
       "2369471 2015-04-10 16:15:00 -73.990044  40.735050\n",
       "1273943 2015-02-23 14:30:00 -73.994194  40.740959\n",
       "1368246 2015-02-27 09:00:00 -73.986656  40.739693"
      ]
     },
     "execution_count": 10,
     "metadata": {},
     "output_type": "execute_result"
    }
   ],
   "source": [
    "data.datetime = data.datetime.dt.round('15min')\n",
    "# data.datetime = data.datetime.dt.to_period(freq='min')\n",
    "\n",
    "data.sample(5)"
   ]
  },
  {
   "cell_type": "markdown",
   "metadata": {},
   "source": [
    "Create a grid and count the *number of requests per cell*"
   ]
  },
  {
   "cell_type": "code",
   "execution_count": 11,
   "metadata": {},
   "outputs": [
    {
     "data": {
      "image/png": "[encoded data removed]",
      "text/plain": [
       "<Figure size 720x432 with 1 Axes>"
      ]
     },
     "metadata": {
      "needs_background": "light"
     },
     "output_type": "display_data"
    }
   ],
   "source": [
    "plt.figure(figsize=(10, 6))\n",
    "\n",
    "plt.hist2d(data.lon, data.lat, bins=50);\n",
    "plt.title('lon/lat histogram');\n",
    "plt.xlabel('lon');\n",
    "plt.ylabel('lat');"
   ]
  },
  {
   "cell_type": "markdown",
   "metadata": {},
   "source": [
    "## Number of requests"
   ]
  },
  {
   "cell_type": "code",
   "execution_count": 12,
   "metadata": {},
   "outputs": [
    {
     "data": {
      "image/png": "[encoded data removed]",
      "text/plain": [
       "<Figure size 1080x432 with 1 Axes>"
      ]
     },
     "metadata": {
      "needs_background": "light"
     },
     "output_type": "display_data"
    }
   ],
   "source": [
    "plt.figure(figsize=(15, 6))\n",
    "\n",
    "plt.title('Number of requests')\n",
    "data.groupby(\n",
    "    data.datetime.dt.round('12h')).datetime.count().plot(label='12 hours')\n",
    "data.groupby(\n",
    "    data.datetime.dt.round('48h')).datetime.count().plot(label='48 hours')\n",
    "plt.legend();"
   ]
  },
  {
   "cell_type": "markdown",
   "metadata": {},
   "source": [
    "## Create grid"
   ]
  },
  {
   "cell_type": "markdown",
   "metadata": {},
   "source": [
    "### Area size"
   ]
  },
  {
   "cell_type": "code",
   "execution_count": 13,
   "metadata": {},
   "outputs": [
    {
     "name": "stdout",
     "output_type": "stream",
     "text": [
      "Area size is 1.20 x 1.20 km\n"
     ]
    }
   ],
   "source": [
    "import haversine\n",
    "\n",
    "point1 = (bbox[1][0], bbox[0][0])\n",
    "point2 = (bbox[1][0], bbox[0][1])\n",
    "point3 = (bbox[1][1], bbox[0][0])\n",
    "\n",
    "dx = haversine.haversine(point1, point2)\n",
    "dy = haversine.haversine(point1, point3)\n",
    "\n",
    "print(f'Area size is {dx:.2f} x {dy:.2f} km')"
   ]
  },
  {
   "cell_type": "markdown",
   "metadata": {},
   "source": [
    "### Cells\n",
    "\n",
    "Create 50x50 meters cells"
   ]
  },
  {
   "cell_type": "code",
   "execution_count": 14,
   "metadata": {},
   "outputs": [
    {
     "data": {
      "image/png": "[encoded data removed]",
      "text/plain": [
       "<Figure size 360x360 with 1 Axes>"
      ]
     },
     "metadata": {
      "needs_background": "light"
     },
     "output_type": "display_data"
    }
   ],
   "source": [
    "# cell_size x cell_size grid\n",
    "cell_size = 24\n",
    "\n",
    "plt.figure(figsize=(5, 5))\n",
    "\n",
    "plt.title('Demand per cell')\n",
    "plt.hist2d(data.lon, data.lat, bins=cell_size);"
   ]
  },
  {
   "cell_type": "code",
   "execution_count": 15,
   "metadata": {},
   "outputs": [
    {
     "name": "stdout",
     "output_type": "stream",
     "text": [
      "CPU times: user 2min 19s, sys: 2.28 s, total: 2min 22s\n",
      "Wall time: 2min 32s\n"
     ]
    },
    {
     "data": {
      "text/html": [
       "<div>\n",
       "<style scoped>\n",
       "    .dataframe tbody tr th:only-of-type {\n",
       "        vertical-align: middle;\n",
       "    }\n",
       "\n",
       "    .dataframe tbody tr th {\n",
       "        vertical-align: top;\n",
       "    }\n",
       "\n",
       "    .dataframe thead th {\n",
       "        text-align: right;\n",
       "    }\n",
       "</style>\n",
       "<table border=\"1\" class=\"dataframe\">\n",
       "  <thead>\n",
       "    <tr style=\"text-align: right;\">\n",
       "      <th></th>\n",
       "      <th>datetime</th>\n",
       "      <th>lon</th>\n",
       "      <th>lat</th>\n",
       "      <th>x_cell</th>\n",
       "      <th>y_cell</th>\n",
       "      <th>cell</th>\n",
       "    </tr>\n",
       "  </thead>\n",
       "  <tbody>\n",
       "    <tr>\n",
       "      <th>0</th>\n",
       "      <td>2015-01-01</td>\n",
       "      <td>-73.986000</td>\n",
       "      <td>40.740601</td>\n",
       "      <td>17</td>\n",
       "      <td>21</td>\n",
       "      <td>17-21</td>\n",
       "    </tr>\n",
       "    <tr>\n",
       "      <th>1</th>\n",
       "      <td>2015-01-01</td>\n",
       "      <td>-73.990891</td>\n",
       "      <td>40.738850</td>\n",
       "      <td>9</td>\n",
       "      <td>18</td>\n",
       "      <td>9-18</td>\n",
       "    </tr>\n",
       "    <tr>\n",
       "      <th>2</th>\n",
       "      <td>2015-01-01</td>\n",
       "      <td>-73.990509</td>\n",
       "      <td>40.735027</td>\n",
       "      <td>9</td>\n",
       "      <td>10</td>\n",
       "      <td>9-10</td>\n",
       "    </tr>\n",
       "    <tr>\n",
       "      <th>3</th>\n",
       "      <td>2015-01-01</td>\n",
       "      <td>-73.987442</td>\n",
       "      <td>40.733410</td>\n",
       "      <td>14</td>\n",
       "      <td>6</td>\n",
       "      <td>14-6</td>\n",
       "    </tr>\n",
       "    <tr>\n",
       "      <th>4</th>\n",
       "      <td>2015-01-01</td>\n",
       "      <td>-73.985779</td>\n",
       "      <td>40.731773</td>\n",
       "      <td>17</td>\n",
       "      <td>3</td>\n",
       "      <td>17-3</td>\n",
       "    </tr>\n",
       "  </tbody>\n",
       "</table>\n",
       "</div>"
      ],
      "text/plain": [
       "    datetime        lon        lat  x_cell  y_cell   cell\n",
       "0 2015-01-01 -73.986000  40.740601      17      21  17-21\n",
       "1 2015-01-01 -73.990891  40.738850       9      18   9-18\n",
       "2 2015-01-01 -73.990509  40.735027       9      10   9-10\n",
       "3 2015-01-01 -73.987442  40.733410      14       6   14-6\n",
       "4 2015-01-01 -73.985779  40.731773      17       3   17-3"
      ]
     },
     "execution_count": 15,
     "metadata": {},
     "output_type": "execute_result"
    }
   ],
   "source": [
    "%%time\n",
    "\n",
    "xcells = np.linspace(bbox[0][0], bbox[0][1], cell_size)\n",
    "data['x_cell'] = np.digitize(data.lon, xcells)\n",
    "\n",
    "ycells = np.linspace(bbox[1][0], bbox[1][1], cell_size)\n",
    "data['y_cell'] = np.digitize(data.lat, ycells)\n",
    "\n",
    "data['cell'] = data.apply(\n",
    "    lambda item: '{}-{}'.format(item.x_cell, item.y_cell), axis=1)\n",
    "\n",
    "data.head(5)"
   ]
  },
  {
   "cell_type": "code",
   "execution_count": 16,
   "metadata": {},
   "outputs": [
    {
     "data": {
      "image/png": "[encoded data removed]",
      "text/plain": [
       "<Figure size 576x360 with 1 Axes>"
      ]
     },
     "metadata": {
      "needs_background": "light"
     },
     "output_type": "display_data"
    }
   ],
   "source": [
    "plt.figure(figsize=(8, 5))\n",
    "\n",
    "plt.title('Distribution of requests per cell per hour')\n",
    "plt.hist(data.groupby([data.datetime.dt.round('1h'), 'cell']).cell.count(),\n",
    "         bins=50);"
   ]
  },
  {
   "cell_type": "markdown",
   "metadata": {},
   "source": [
    "# Total demand\n",
    "\n",
    "Demand for all cell at the same time"
   ]
  },
  {
   "cell_type": "markdown",
   "metadata": {},
   "source": [
    "## Daily demand"
   ]
  },
  {
   "cell_type": "markdown",
   "metadata": {},
   "source": [
    "### Aggregation"
   ]
  },
  {
   "cell_type": "code",
   "execution_count": 17,
   "metadata": {},
   "outputs": [
    {
     "data": {
      "text/html": [
       "<div>\n",
       "<style scoped>\n",
       "    .dataframe tbody tr th:only-of-type {\n",
       "        vertical-align: middle;\n",
       "    }\n",
       "\n",
       "    .dataframe tbody tr th {\n",
       "        vertical-align: top;\n",
       "    }\n",
       "\n",
       "    .dataframe thead th {\n",
       "        text-align: right;\n",
       "    }\n",
       "</style>\n",
       "<table border=\"1\" class=\"dataframe\">\n",
       "  <thead>\n",
       "    <tr style=\"text-align: right;\">\n",
       "      <th></th>\n",
       "      <th>datetime</th>\n",
       "      <th>total</th>\n",
       "      <th>month</th>\n",
       "      <th>day</th>\n",
       "    </tr>\n",
       "  </thead>\n",
       "  <tbody>\n",
       "    <tr>\n",
       "      <th>0</th>\n",
       "      <td>2015-01-01</td>\n",
       "      <td>18873</td>\n",
       "      <td>January</td>\n",
       "      <td>1</td>\n",
       "    </tr>\n",
       "    <tr>\n",
       "      <th>1</th>\n",
       "      <td>2015-01-02</td>\n",
       "      <td>17611</td>\n",
       "      <td>January</td>\n",
       "      <td>2</td>\n",
       "    </tr>\n",
       "    <tr>\n",
       "      <th>2</th>\n",
       "      <td>2015-01-03</td>\n",
       "      <td>23469</td>\n",
       "      <td>January</td>\n",
       "      <td>3</td>\n",
       "    </tr>\n",
       "  </tbody>\n",
       "</table>\n",
       "</div>"
      ],
      "text/plain": [
       "    datetime  total    month  day\n",
       "0 2015-01-01  18873  January    1\n",
       "1 2015-01-02  17611  January    2\n",
       "2 2015-01-03  23469  January    3"
      ]
     },
     "execution_count": 17,
     "metadata": {},
     "output_type": "execute_result"
    }
   ],
   "source": [
    "groups = data.groupby(data.datetime.dt.date)\n",
    "demand_data = groups.datetime.count().to_frame(name='total')\n",
    "\n",
    "demand_data.reset_index(inplace=True)\n",
    "\n",
    "demand_data.datetime = pd.to_datetime(demand_data.datetime)\n",
    "demand_data['month'] = demand_data.datetime.dt.month_name()\n",
    "demand_data['day'] = demand_data.datetime.dt.day\n",
    "\n",
    "demand_data.head(3)"
   ]
  },
  {
   "cell_type": "markdown",
   "metadata": {},
   "source": [
    "### Remove outliers"
   ]
  },
  {
   "cell_type": "code",
   "execution_count": 18,
   "metadata": {},
   "outputs": [
    {
     "ename": "NameError",
     "evalue": "name 'filtered_entries' is not defined",
     "output_type": "error",
     "traceback": [
      "\u001b[0;31m---------------------------------------------------------------------------\u001b[0m",
      "\u001b[0;31mNameError\u001b[0m                                 Traceback (most recent call last)",
      "\u001b[0;32m<ipython-input-18-5772c7dcd186>\u001b[0m in \u001b[0;36m<module>\u001b[0;34m\u001b[0m\n\u001b[1;32m      4\u001b[0m \u001b[0midx\u001b[0m \u001b[0;34m=\u001b[0m \u001b[0;34m(\u001b[0m\u001b[0mnp\u001b[0m\u001b[0;34m.\u001b[0m\u001b[0mabs\u001b[0m\u001b[0;34m(\u001b[0m\u001b[0mz_scores\u001b[0m\u001b[0;34m)\u001b[0m \u001b[0;34m<\u001b[0m \u001b[0;36m3\u001b[0m\u001b[0;34m)\u001b[0m\u001b[0;34m\u001b[0m\u001b[0;34m\u001b[0m\u001b[0m\n\u001b[1;32m      5\u001b[0m \u001b[0;34m\u001b[0m\u001b[0m\n\u001b[0;32m----> 6\u001b[0;31m \u001b[0;32mif\u001b[0m \u001b[0mfiltered_entries\u001b[0m\u001b[0;34m.\u001b[0m\u001b[0msum\u001b[0m\u001b[0;34m(\u001b[0m\u001b[0;34m)\u001b[0m \u001b[0;34m<\u001b[0m \u001b[0mdemand_data\u001b[0m\u001b[0;34m.\u001b[0m\u001b[0mshape\u001b[0m\u001b[0;34m[\u001b[0m\u001b[0;36m0\u001b[0m\u001b[0;34m]\u001b[0m\u001b[0;34m:\u001b[0m\u001b[0;34m\u001b[0m\u001b[0;34m\u001b[0m\u001b[0m\n\u001b[0m\u001b[1;32m      7\u001b[0m     \u001b[0mprint\u001b[0m\u001b[0;34m(\u001b[0m\u001b[0;34mf'Removing {demand_data.shape[0] - idx.sum()} outliers'\u001b[0m\u001b[0;34m)\u001b[0m\u001b[0;34m\u001b[0m\u001b[0;34m\u001b[0m\u001b[0m\n\u001b[1;32m      8\u001b[0m \u001b[0;34m\u001b[0m\u001b[0m\n",
      "\u001b[0;31mNameError\u001b[0m: name 'filtered_entries' is not defined"
     ]
    }
   ],
   "source": [
    "from scipy import stats\n",
    "\n",
    "z_scores = stats.zscore(demand_data.total)\n",
    "idx = (np.abs(z_scores) < 3)\n",
    "\n",
    "if filtered_entries.sum() < demand_data.shape[0]:\n",
    "    print(f'Removing {demand_data.shape[0] - idx.sum()} outliers')\n",
    "    \n",
    "    demand_data = demand_data[idx].reset_index()\n",
    "    \n",
    "demand_data.shape"
   ]
  },
  {
   "cell_type": "code",
   "execution_count": null,
   "metadata": {},
   "outputs": [],
   "source": [
    "plt.figure(figsize=(15, 4))\n",
    "plt.title('Daily demand')\n",
    "plt.xlabel('Day')\n",
    "demand_data.total.plot();"
   ]
  },
  {
   "cell_type": "code",
   "execution_count": null,
   "metadata": {},
   "outputs": [],
   "source": []
  },
  {
   "cell_type": "markdown",
   "metadata": {},
   "source": [
    "### Seasonal plot"
   ]
  },
  {
   "cell_type": "code",
   "execution_count": null,
   "metadata": {},
   "outputs": [],
   "source": [
    "plt.figure(figsize=(15, 6))\n",
    "\n",
    "plt.title('Seasonal plot')\n",
    "\n",
    "palette = sns.color_palette('Set2', demand_data.month.nunique())\n",
    "\n",
    "sns.lineplot(x='day',\n",
    "             y='total',\n",
    "             data=demand_data,\n",
    "             estimator='mean',\n",
    "             ci=95,\n",
    "             hue='month',\n",
    "             palette=palette);"
   ]
  },
  {
   "cell_type": "markdown",
   "metadata": {},
   "source": [
    "### Prediction"
   ]
  },
  {
   "cell_type": "markdown",
   "metadata": {},
   "source": [
    "#### Features"
   ]
  },
  {
   "cell_type": "code",
   "execution_count": null,
   "metadata": {},
   "outputs": [],
   "source": [
    "y = demand_data.total.values\n",
    "\n",
    "X = demand_data.day.to_frame().reset_index(drop=True)\n",
    "X['month'] = demand_data.datetime.dt.month\n",
    "X['day_of_week'] = demand_data.datetime.dt.dayofweek\n",
    "X['week'] = demand_data.datetime.dt.week\n",
    "X['quarter'] = demand_data.datetime.dt.quarter\n",
    "X['days_in_month'] = demand_data.datetime.dt.days_in_month\n",
    "\n",
    "X.head(3)"
   ]
  },
  {
   "cell_type": "markdown",
   "metadata": {},
   "source": [
    "#### Model"
   ]
  },
  {
   "cell_type": "code",
   "execution_count": null,
   "metadata": {},
   "outputs": [],
   "source": [
    "from sklearn import model_selection\n",
    "from sklearn import ensemble\n",
    "from sklearn import metrics\n",
    "\n",
    "tscv = model_selection.TimeSeriesSplit(n_splits=5)\n",
    "\n",
    "errors = []\n",
    "for train_index, test_index in tscv.split(X):\n",
    "\n",
    "    X_train, X_test = X.loc[train_index], X.loc[test_index]\n",
    "    y_train, y_test = y[train_index], y[test_index]\n",
    "\n",
    "    model = ensemble.GradientBoostingRegressor()\n",
    "    model.fit(X_train, y_train)\n",
    "\n",
    "    pred = model.predict(X_test)\n",
    "\n",
    "    err = metrics.mean_squared_error(y_test, pred, squared=False)\n",
    "    \n",
    "    print(f'\\nTrain dataset size: {X_train.shape[0]}')\n",
    "    print(f'RMSE = {err:.2f}')\n",
    "\n",
    "    print('Feature importance:')\n",
    "\n",
    "    print(pd.DataFrame(model.feature_importances_, X.columns,\n",
    "                       columns=['score']).sort_values(by='score', ascending=False))\n",
    "\n",
    "    errors.append(err)\n",
    "\n",
    "print(f'\\n CV error = {np.mean(errors):.2f}')"
   ]
  },
  {
   "cell_type": "code",
   "execution_count": null,
   "metadata": {},
   "outputs": [],
   "source": [
    "# plot last predicted and test values\n",
    "\n",
    "plt.figure(figsize=(15, 4))\n",
    "\n",
    "plt.title('Predicted vs test values')\n",
    "plt.plot(pred, label='predicted')\n",
    "plt.plot(y_test, label='test');\n",
    "plt.ylim(0, max(max(pred), max(y_test)) + 1000)\n",
    "plt.xlabel('day')\n",
    "\n",
    "plt.legend();"
   ]
  },
  {
   "cell_type": "code",
   "execution_count": null,
   "metadata": {},
   "outputs": [],
   "source": [
    "plt.figure(figsize=(15, 4))\n",
    "\n",
    "plt.subplot(121)\n",
    "plt.title('Residuals plot')\n",
    "plt.plot(y_test - pred);\n",
    "\n",
    "plt.subplot(122)\n",
    "\n",
    "plt.title('Residuals histograms')\n",
    "plt.hist(y_test - pred, bins=10);"
   ]
  },
  {
   "cell_type": "code",
   "execution_count": null,
   "metadata": {},
   "outputs": [],
   "source": []
  },
  {
   "cell_type": "markdown",
   "metadata": {},
   "source": [
    "## Time series analysis"
   ]
  },
  {
   "cell_type": "markdown",
   "metadata": {},
   "source": [
    "### Trend and seasonality"
   ]
  },
  {
   "cell_type": "code",
   "execution_count": null,
   "metadata": {},
   "outputs": [],
   "source": [
    "from statsmodels.tsa.seasonal import seasonal_decompose\n",
    "\n",
    "period = 14\n",
    "\n",
    "ts_data = demand_data[['datetime', 'total']].reset_index(drop=True)\n",
    "ts_data.datetime = ts_data.datetime.dt.date\n",
    "ts_data.set_index('datetime', inplace=True)\n",
    "\n",
    "# result = seasonal_decompose(ts_data, model='multiplicative', period=period)\n",
    "result = seasonal_decompose(ts_data, model='additive', period=period)\n",
    "\n",
    "fig = result.plot();\n",
    "fig.set_figheight(7)\n",
    "fig.set_figwidth(12);\n",
    "\n",
    "print(f'Seasonal decompose with {period} days period:')"
   ]
  },
  {
   "cell_type": "markdown",
   "metadata": {},
   "source": [
    "### Stationarity"
   ]
  },
  {
   "cell_type": "code",
   "execution_count": null,
   "metadata": {},
   "outputs": [],
   "source": []
  },
  {
   "cell_type": "code",
   "execution_count": null,
   "metadata": {},
   "outputs": [],
   "source": []
  },
  {
   "cell_type": "markdown",
   "metadata": {},
   "source": [
    "## Seasonal plot"
   ]
  },
  {
   "cell_type": "code",
   "execution_count": 20,
   "metadata": {},
   "outputs": [
    {
     "name": "stdout",
     "output_type": "stream",
     "text": [
      "Collecting pyclustering\n",
      "  Downloading pyclustering-0.9.3.1.tar.gz (2.6 MB)\n",
      "\u001b[K     |████████████████████████████████| 2.6 MB 1.8 MB/s eta 0:00:01\n",
      "\u001b[?25hRequirement already satisfied: scipy in /Users/sashkolysenko/opt/anaconda3/lib/python3.7/site-packages (from pyclustering) (1.4.1)\n",
      "Requirement already satisfied: matplotlib in /Users/sashkolysenko/opt/anaconda3/lib/python3.7/site-packages (from pyclustering) (3.1.3)\n",
      "Requirement already satisfied: numpy in /Users/sashkolysenko/opt/anaconda3/lib/python3.7/site-packages (from pyclustering) (1.18.1)\n",
      "Requirement already satisfied: Pillow in /Users/sashkolysenko/opt/anaconda3/lib/python3.7/site-packages (from pyclustering) (7.1.2)\n",
      "Requirement already satisfied: python-dateutil>=2.1 in /Users/sashkolysenko/opt/anaconda3/lib/python3.7/site-packages (from matplotlib->pyclustering) (2.8.1)\n",
      "Requirement already satisfied: kiwisolver>=1.0.1 in /Users/sashkolysenko/opt/anaconda3/lib/python3.7/site-packages (from matplotlib->pyclustering) (1.2.0)\n",
      "Requirement already satisfied: cycler>=0.10 in /Users/sashkolysenko/opt/anaconda3/lib/python3.7/site-packages (from matplotlib->pyclustering) (0.10.0)\n",
      "Requirement already satisfied: pyparsing!=2.0.4,!=2.1.2,!=2.1.6,>=2.0.1 in /Users/sashkolysenko/opt/anaconda3/lib/python3.7/site-packages (from matplotlib->pyclustering) (2.4.7)\n",
      "Requirement already satisfied: six>=1.5 in /Users/sashkolysenko/opt/anaconda3/lib/python3.7/site-packages (from python-dateutil>=2.1->matplotlib->pyclustering) (1.14.0)\n",
      "Building wheels for collected packages: pyclustering\n",
      "  Building wheel for pyclustering (setup.py) ... \u001b[?25ldone\n",
      "\u001b[?25h  Created wheel for pyclustering: filename=pyclustering-0.9.3.1-py3-none-any.whl size=2599359 sha256=ec0f945b67d21e5a1d95a4bcd2f36543a9e99a32633e904121b93140a0f91a16\n",
      "  Stored in directory: /Users/sashkolysenko/Library/Caches/pip/wheels/ee/f0/f3/fa5fff5e5cd0d3bf08e422c30c9cdff6242539f91b6e0aac18\n",
      "Successfully built pyclustering\n",
      "Installing collected packages: pyclustering\n",
      "Successfully installed pyclustering-0.9.3.1\n"
     ]
    }
   ],
   "source": [
    "!pip install pyclustering"
   ]
  },
  {
   "cell_type": "code",
   "execution_count": 32,
   "metadata": {},
   "outputs": [],
   "source": [
    "from pyclustering.cluster.kmeans import kmeans\n",
    "from pyclustering.cluster.center_initializer import kmeans_plusplus_initializer\n",
    "\n",
    "sample = data[:1000][['lat', 'lon']]\n",
    "initial_centers = kmeans_plusplus_initializer(sample, 2).initialize()\n",
    "\n",
    "kmeans_instance = kmeans(sample, initial_centers)\n",
    "# Run cluster analysis and obtain results.\n",
    "kmeans_instance.process()\n",
    "clusters = kmeans_instance.get_clusters()\n",
    "final_centers = kmeans_instance.get_centers()\n"
   ]
  },
  {
   "cell_type": "code",
   "execution_count": 45,
   "metadata": {},
   "outputs": [
    {
     "ename": "KeyboardInterrupt",
     "evalue": "",
     "output_type": "error",
     "traceback": [
      "\u001b[0;31m---------------------------------------------------------------------------\u001b[0m",
      "\u001b[0;31mKeyboardInterrupt\u001b[0m                         Traceback (most recent call last)",
      "\u001b[0;32m<ipython-input-45-042826783f3d>\u001b[0m in \u001b[0;36m<module>\u001b[0;34m\u001b[0m\n\u001b[1;32m      6\u001b[0m \u001b[0mclustering\u001b[0m \u001b[0;34m=\u001b[0m \u001b[0mclarans\u001b[0m\u001b[0;34m(\u001b[0m\u001b[0msample\u001b[0m\u001b[0;34m.\u001b[0m\u001b[0mvalues\u001b[0m\u001b[0;34m,\u001b[0m \u001b[0;36m2\u001b[0m\u001b[0;34m,\u001b[0m \u001b[0;36m2\u001b[0m\u001b[0;34m,\u001b[0m \u001b[0;36m2\u001b[0m\u001b[0;34m)\u001b[0m\u001b[0;34m\u001b[0m\u001b[0;34m\u001b[0m\u001b[0m\n\u001b[1;32m      7\u001b[0m \u001b[0;34m\u001b[0m\u001b[0m\n\u001b[0;32m----> 8\u001b[0;31m \u001b[0mclustering\u001b[0m\u001b[0;34m.\u001b[0m\u001b[0mprocess\u001b[0m\u001b[0;34m(\u001b[0m\u001b[0;34m)\u001b[0m\u001b[0;34m\u001b[0m\u001b[0;34m\u001b[0m\u001b[0m\n\u001b[0m\u001b[1;32m      9\u001b[0m \u001b[0;31m# clustering.process()\u001b[0m\u001b[0;34m\u001b[0m\u001b[0;34m\u001b[0m\u001b[0;34m\u001b[0m\u001b[0m\n",
      "\u001b[0;32m~/opt/anaconda3/lib/python3.7/site-packages/pyclustering/cluster/clarans.py\u001b[0m in \u001b[0;36mprocess\u001b[0;34m(self)\u001b[0m\n\u001b[1;32m    107\u001b[0m \u001b[0;34m\u001b[0m\u001b[0m\n\u001b[1;32m    108\u001b[0m             \u001b[0;31m# optimize configuration\u001b[0m\u001b[0;34m\u001b[0m\u001b[0;34m\u001b[0m\u001b[0;34m\u001b[0m\u001b[0m\n\u001b[0;32m--> 109\u001b[0;31m             \u001b[0mself\u001b[0m\u001b[0;34m.\u001b[0m\u001b[0m__optimize_configuration\u001b[0m\u001b[0;34m(\u001b[0m\u001b[0;34m)\u001b[0m\u001b[0;34m\u001b[0m\u001b[0;34m\u001b[0m\u001b[0m\n\u001b[0m\u001b[1;32m    110\u001b[0m \u001b[0;34m\u001b[0m\u001b[0m\n\u001b[1;32m    111\u001b[0m             \u001b[0;31m# obtain cost of current cluster configuration and compare it with the best obtained\u001b[0m\u001b[0;34m\u001b[0m\u001b[0;34m\u001b[0m\u001b[0;34m\u001b[0m\u001b[0m\n",
      "\u001b[0;32m~/opt/anaconda3/lib/python3.7/site-packages/pyclustering/cluster/clarans.py\u001b[0m in \u001b[0;36m__optimize_configuration\u001b[0;34m(self)\u001b[0m\n\u001b[1;32m    250\u001b[0m \u001b[0;34m\u001b[0m\u001b[0m\n\u001b[1;32m    251\u001b[0m                 \u001b[0;31m# recalculate clusters\u001b[0m\u001b[0;34m\u001b[0m\u001b[0;34m\u001b[0m\u001b[0;34m\u001b[0m\u001b[0m\n\u001b[0;32m--> 252\u001b[0;31m                 \u001b[0mself\u001b[0m\u001b[0;34m.\u001b[0m\u001b[0m__update_clusters\u001b[0m\u001b[0;34m(\u001b[0m\u001b[0mself\u001b[0m\u001b[0;34m.\u001b[0m\u001b[0m__current\u001b[0m\u001b[0;34m)\u001b[0m\u001b[0;34m\u001b[0m\u001b[0;34m\u001b[0m\u001b[0m\n\u001b[0m\u001b[1;32m    253\u001b[0m \u001b[0;34m\u001b[0m\u001b[0m\n\u001b[1;32m    254\u001b[0m                 \u001b[0;31m# reset iterations and starts investigation from the begining\u001b[0m\u001b[0;34m\u001b[0m\u001b[0;34m\u001b[0m\u001b[0;34m\u001b[0m\u001b[0m\n",
      "\u001b[0;32m~/opt/anaconda3/lib/python3.7/site-packages/pyclustering/cluster/clarans.py\u001b[0m in \u001b[0;36m__update_clusters\u001b[0;34m(self, medoids)\u001b[0m\n\u001b[1;32m    173\u001b[0m \u001b[0;34m\u001b[0m\u001b[0m\n\u001b[1;32m    174\u001b[0m             \u001b[0;32mfor\u001b[0m \u001b[0mindex\u001b[0m \u001b[0;32min\u001b[0m \u001b[0mrange\u001b[0m\u001b[0;34m(\u001b[0m\u001b[0mlen\u001b[0m\u001b[0;34m(\u001b[0m\u001b[0mmedoids\u001b[0m\u001b[0;34m)\u001b[0m\u001b[0;34m)\u001b[0m\u001b[0;34m:\u001b[0m\u001b[0;34m\u001b[0m\u001b[0;34m\u001b[0m\u001b[0m\n\u001b[0;32m--> 175\u001b[0;31m                 \u001b[0mdist\u001b[0m \u001b[0;34m=\u001b[0m \u001b[0meuclidean_distance_square\u001b[0m\u001b[0;34m(\u001b[0m\u001b[0mself\u001b[0m\u001b[0;34m.\u001b[0m\u001b[0m__pointer_data\u001b[0m\u001b[0;34m[\u001b[0m\u001b[0mindex_point\u001b[0m\u001b[0;34m]\u001b[0m\u001b[0;34m,\u001b[0m \u001b[0mself\u001b[0m\u001b[0;34m.\u001b[0m\u001b[0m__pointer_data\u001b[0m\u001b[0;34m[\u001b[0m\u001b[0mmedoids\u001b[0m\u001b[0;34m[\u001b[0m\u001b[0mindex\u001b[0m\u001b[0;34m]\u001b[0m\u001b[0;34m]\u001b[0m\u001b[0;34m)\u001b[0m\u001b[0;34m\u001b[0m\u001b[0;34m\u001b[0m\u001b[0m\n\u001b[0m\u001b[1;32m    176\u001b[0m \u001b[0;34m\u001b[0m\u001b[0m\n\u001b[1;32m    177\u001b[0m                 \u001b[0;32mif\u001b[0m \u001b[0;34m(\u001b[0m\u001b[0mdist\u001b[0m \u001b[0;34m<\u001b[0m \u001b[0mdist_optim\u001b[0m\u001b[0;34m)\u001b[0m \u001b[0;32mor\u001b[0m \u001b[0;34m(\u001b[0m\u001b[0mindex\u001b[0m \u001b[0;32mis\u001b[0m \u001b[0;36m0\u001b[0m\u001b[0;34m)\u001b[0m\u001b[0;34m:\u001b[0m\u001b[0;34m\u001b[0m\u001b[0;34m\u001b[0m\u001b[0m\n",
      "\u001b[0;32m~/opt/anaconda3/lib/python3.7/site-packages/pyclustering/utils/__init__.py\u001b[0m in \u001b[0;36meuclidean_distance_square\u001b[0;34m(a, b)\u001b[0m\n\u001b[1;32m    322\u001b[0m     \u001b[0mdistance\u001b[0m \u001b[0;34m=\u001b[0m \u001b[0;36m0.0\u001b[0m\u001b[0;34m;\u001b[0m\u001b[0;34m\u001b[0m\u001b[0;34m\u001b[0m\u001b[0m\n\u001b[1;32m    323\u001b[0m     \u001b[0;32mfor\u001b[0m \u001b[0mi\u001b[0m \u001b[0;32min\u001b[0m \u001b[0mrange\u001b[0m\u001b[0;34m(\u001b[0m\u001b[0;36m0\u001b[0m\u001b[0;34m,\u001b[0m \u001b[0mlen\u001b[0m\u001b[0;34m(\u001b[0m\u001b[0ma\u001b[0m\u001b[0;34m)\u001b[0m\u001b[0;34m)\u001b[0m\u001b[0;34m:\u001b[0m\u001b[0;34m\u001b[0m\u001b[0;34m\u001b[0m\u001b[0m\n\u001b[0;32m--> 324\u001b[0;31m         \u001b[0mdistance\u001b[0m \u001b[0;34m+=\u001b[0m \u001b[0;34m(\u001b[0m\u001b[0ma\u001b[0m\u001b[0;34m[\u001b[0m\u001b[0mi\u001b[0m\u001b[0;34m]\u001b[0m \u001b[0;34m-\u001b[0m \u001b[0mb\u001b[0m\u001b[0;34m[\u001b[0m\u001b[0mi\u001b[0m\u001b[0;34m]\u001b[0m\u001b[0;34m)\u001b[0m\u001b[0;34m**\u001b[0m\u001b[0;36m2.0\u001b[0m\u001b[0;34m;\u001b[0m\u001b[0;34m\u001b[0m\u001b[0;34m\u001b[0m\u001b[0m\n\u001b[0m\u001b[1;32m    325\u001b[0m \u001b[0;34m\u001b[0m\u001b[0m\n\u001b[1;32m    326\u001b[0m     \u001b[0;32mreturn\u001b[0m \u001b[0mdistance\u001b[0m\u001b[0;34m;\u001b[0m\u001b[0;34m\u001b[0m\u001b[0;34m\u001b[0m\u001b[0m\n",
      "\u001b[0;31mKeyboardInterrupt\u001b[0m: "
     ]
    }
   ],
   "source": [
    "# plt.scatter(sample.loc[clusters[0]].lon, sample.loc[clusters[0]].lat, alpha=0.3)\n",
    "# plt.scatter(sample.loc[clusters[1]].lon, sample.loc[clusters[1]].lat, alpha=0.3)\n",
    "\n",
    "from pyclustering.cluster.clarans import clarans\n",
    "\n",
    "clustering = clarans(sample.values, 2, 2, 2)\n",
    "\n",
    "clustering.process()\n",
    "# clustering.process()"
   ]
  },
  {
   "cell_type": "code",
   "execution_count": null,
   "metadata": {},
   "outputs": [],
   "source": []
  },
  {
   "cell_type": "code",
   "execution_count": null,
   "metadata": {},
   "outputs": [],
   "source": []
  }
 ],
 "metadata": {
  "kernelspec": {
   "display_name": "Python 3",
   "language": "python",
   "name": "python3"
  },
  "language_info": {
   "codemirror_mode": {
    "name": "ipython",
    "version": 3
   },
   "file_extension": ".py",
   "mimetype": "text/x-python",
   "name": "python",
   "nbconvert_exporter": "python",
   "pygments_lexer": "ipython3",
   "version": "3.7.6"
  },
  "toc": {
   "base_numbering": 1,
   "nav_menu": {},
   "number_sections": false,
   "sideBar": true,
   "skip_h1_title": false,
   "title_cell": "Table of Contents",
   "title_sidebar": "Contents",
   "toc_cell": true,
   "toc_position": {
    "height": "calc(100% - 180px)",
    "left": "10px",
    "top": "150px",
    "width": "185px"
   },
   "toc_section_display": true,
   "toc_window_display": true
  },
  "varInspector": {
   "cols": {
    "lenName": 16,
    "lenType": 16,
    "lenVar": 40
   },
   "kernels_config": {
    "python": {
     "delete_cmd_postfix": "",
     "delete_cmd_prefix": "del ",
     "library": "var_list.py",
     "varRefreshCmd": "print(var_dic_list())"
    },
    "r": {
     "delete_cmd_postfix": ") ",
     "delete_cmd_prefix": "rm(",
     "library": "var_list.r",
     "varRefreshCmd": "cat(var_dic_list()) "
    }
   },
   "types_to_exclude": [
    "module",
    "function",
    "builtin_function_or_method",
    "instance",
    "_Feature"
   ],
   "window_display": false
  }
 },
 "nbformat": 4,
 "nbformat_minor": 2
}
