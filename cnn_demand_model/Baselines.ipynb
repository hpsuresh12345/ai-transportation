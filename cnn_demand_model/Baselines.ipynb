{
 "cells": [
  {
   "cell_type": "markdown",
   "metadata": {
    "toc": true
   },
   "source": [
    "<h1>Table of Contents<span class=\"tocSkip\"></span></h1>\n",
    "<div class=\"toc\"><ul class=\"toc-item\"><li><span><a href=\"#Baselines\" data-toc-modified-id=\"Baselines-1\">Baselines</a></span><ul class=\"toc-item\"><li><span><a href=\"#Test\" data-toc-modified-id=\"Test-1.1\">Test</a></span><ul class=\"toc-item\"><li><span><a href=\"#Motivation\" data-toc-modified-id=\"Motivation-1.1.1\">Motivation</a></span></li></ul></li></ul></li><li><span><a href=\"#Prepare-data\" data-toc-modified-id=\"Prepare-data-2\">Prepare data</a></span><ul class=\"toc-item\"><li><span><a href=\"#Limit-for-a-smaller-area\" data-toc-modified-id=\"Limit-for-a-smaller-area-2.1\">Limit for a smaller area</a></span></li><li><span><a href=\"#Round-time\" data-toc-modified-id=\"Round-time-2.2\">Round time</a></span></li><li><span><a href=\"#Number-of-requests\" data-toc-modified-id=\"Number-of-requests-2.3\">Number of requests</a></span></li><li><span><a href=\"#Create-grid\" data-toc-modified-id=\"Create-grid-2.4\">Create grid</a></span><ul class=\"toc-item\"><li><span><a href=\"#Area-size\" data-toc-modified-id=\"Area-size-2.4.1\">Area size</a></span></li><li><span><a href=\"#Cells\" data-toc-modified-id=\"Cells-2.4.2\">Cells</a></span></li></ul></li><li><span><a href=\"#Number-of-requests-per-hour\" data-toc-modified-id=\"Number-of-requests-per-hour-2.5\">Number of requests per hour</a></span></li><li><span><a href=\"#Create-a-demand-dataset\" data-toc-modified-id=\"Create-a-demand-dataset-2.6\">Create a demand dataset</a></span><ul class=\"toc-item\"><li><span><a href=\"#Demand-dataset\" data-toc-modified-id=\"Demand-dataset-2.6.1\">Demand dataset</a></span></li><li><span><a href=\"#Create-a-grid\" data-toc-modified-id=\"Create-a-grid-2.6.2\">Create a grid</a></span></li></ul></li><li><span><a href=\"#Remove-noise\" data-toc-modified-id=\"Remove-noise-2.7\">Remove noise</a></span></li></ul></li></ul></div>"
   ]
  },
  {
   "cell_type": "markdown",
   "metadata": {},
   "source": [
    "# Baselines\n",
    "\n",
    "## Test\n",
    "### Motivation\n",
    "\n",
    "Create a set of baselines for demand prediction using conventional methods:\n",
    "\n",
    "* time series prediction\n",
    "* per cell prediction using any type of regressor, e.g. gradient boosting regressor"
   ]
  },
  {
   "cell_type": "markdown",
   "metadata": {},
   "source": [
    "# Prepare data"
   ]
  },
  {
   "cell_type": "code",
   "execution_count": 75,
   "metadata": {},
   "outputs": [],
   "source": [
    "%matplotlib inline\n",
    "\n",
    "import matplotlib.pyplot as plt\n",
    "import pandas as pd\n",
    "import numpy as np\n",
    "import seaborn as sns"
   ]
  },
  {
   "cell_type": "code",
   "execution_count": 129,
   "metadata": {},
   "outputs": [
    {
     "name": "stdout",
     "output_type": "stream",
     "text": [
      "Dataset shape: (41988051, 8)\n",
      "\n",
      "CPU times: user 2.04 s, sys: 9.23 s, total: 11.3 s\n",
      "Wall time: 27.3 s\n"
     ]
    },
    {
     "data": {
      "text/html": [
       "<div>\n",
       "<style scoped>\n",
       "    .dataframe tbody tr th:only-of-type {\n",
       "        vertical-align: middle;\n",
       "    }\n",
       "\n",
       "    .dataframe tbody tr th {\n",
       "        vertical-align: top;\n",
       "    }\n",
       "\n",
       "    .dataframe thead th {\n",
       "        text-align: right;\n",
       "    }\n",
       "</style>\n",
       "<table border=\"1\" class=\"dataframe\">\n",
       "  <thead>\n",
       "    <tr style=\"text-align: right;\">\n",
       "      <th></th>\n",
       "      <th>pickup_datetime</th>\n",
       "      <th>dropoff_datetime</th>\n",
       "      <th>passenger_count</th>\n",
       "      <th>distance</th>\n",
       "      <th>pickup_lon</th>\n",
       "      <th>pickup_lat</th>\n",
       "      <th>dropoff_lon</th>\n",
       "      <th>dropoff_lat</th>\n",
       "    </tr>\n",
       "  </thead>\n",
       "  <tbody>\n",
       "    <tr>\n",
       "      <th>0</th>\n",
       "      <td>2015-01-01 00:00:00</td>\n",
       "      <td>2015-01-01 00:00:00</td>\n",
       "      <td>3</td>\n",
       "      <td>2.510570</td>\n",
       "      <td>-74.001320</td>\n",
       "      <td>40.729057</td>\n",
       "      <td>-74.010208</td>\n",
       "      <td>40.719662</td>\n",
       "    </tr>\n",
       "    <tr>\n",
       "      <th>1</th>\n",
       "      <td>2015-01-01 00:00:03</td>\n",
       "      <td>2015-01-01 00:10:50</td>\n",
       "      <td>1</td>\n",
       "      <td>2.542757</td>\n",
       "      <td>-73.987579</td>\n",
       "      <td>40.765270</td>\n",
       "      <td>-73.976921</td>\n",
       "      <td>40.776970</td>\n",
       "    </tr>\n",
       "    <tr>\n",
       "      <th>2</th>\n",
       "      <td>2015-01-01 00:00:03</td>\n",
       "      <td>2015-01-01 00:21:48</td>\n",
       "      <td>2</td>\n",
       "      <td>4.136004</td>\n",
       "      <td>-73.969017</td>\n",
       "      <td>40.754269</td>\n",
       "      <td>-73.994133</td>\n",
       "      <td>40.761600</td>\n",
       "    </tr>\n",
       "  </tbody>\n",
       "</table>\n",
       "</div>"
      ],
      "text/plain": [
       "      pickup_datetime    dropoff_datetime  passenger_count  distance  \\\n",
       "0 2015-01-01 00:00:00 2015-01-01 00:00:00                3  2.510570   \n",
       "1 2015-01-01 00:00:03 2015-01-01 00:10:50                1  2.542757   \n",
       "2 2015-01-01 00:00:03 2015-01-01 00:21:48                2  4.136004   \n",
       "\n",
       "   pickup_lon  pickup_lat  dropoff_lon  dropoff_lat  \n",
       "0  -74.001320   40.729057   -74.010208    40.719662  \n",
       "1  -73.987579   40.765270   -73.976921    40.776970  \n",
       "2  -73.969017   40.754269   -73.994133    40.761600  "
      ]
     },
     "execution_count": 129,
     "metadata": {},
     "output_type": "execute_result"
    }
   ],
   "source": [
    "%%time \n",
    "\n",
    "raw_data = pd.read_feather('../data/train_data.feather')\n",
    "\n",
    "print(f'Dataset shape: {raw_data.shape}\\n')\n",
    "raw_data.head(3)"
   ]
  },
  {
   "cell_type": "code",
   "execution_count": 130,
   "metadata": {},
   "outputs": [
    {
     "data": {
      "text/html": [
       "<div>\n",
       "<style scoped>\n",
       "    .dataframe tbody tr th:only-of-type {\n",
       "        vertical-align: middle;\n",
       "    }\n",
       "\n",
       "    .dataframe tbody tr th {\n",
       "        vertical-align: top;\n",
       "    }\n",
       "\n",
       "    .dataframe thead th {\n",
       "        text-align: right;\n",
       "    }\n",
       "</style>\n",
       "<table border=\"1\" class=\"dataframe\">\n",
       "  <thead>\n",
       "    <tr style=\"text-align: right;\">\n",
       "      <th></th>\n",
       "      <th>datetime</th>\n",
       "      <th>lon</th>\n",
       "      <th>lat</th>\n",
       "    </tr>\n",
       "  </thead>\n",
       "  <tbody>\n",
       "    <tr>\n",
       "      <th>0</th>\n",
       "      <td>2015-01-01 00:00:00</td>\n",
       "      <td>-74.001320</td>\n",
       "      <td>40.729057</td>\n",
       "    </tr>\n",
       "    <tr>\n",
       "      <th>1</th>\n",
       "      <td>2015-01-01 00:00:03</td>\n",
       "      <td>-73.987579</td>\n",
       "      <td>40.765270</td>\n",
       "    </tr>\n",
       "    <tr>\n",
       "      <th>2</th>\n",
       "      <td>2015-01-01 00:00:03</td>\n",
       "      <td>-73.969017</td>\n",
       "      <td>40.754269</td>\n",
       "    </tr>\n",
       "  </tbody>\n",
       "</table>\n",
       "</div>"
      ],
      "text/plain": [
       "             datetime        lon        lat\n",
       "0 2015-01-01 00:00:00 -74.001320  40.729057\n",
       "1 2015-01-01 00:00:03 -73.987579  40.765270\n",
       "2 2015-01-01 00:00:03 -73.969017  40.754269"
      ]
     },
     "execution_count": 130,
     "metadata": {},
     "output_type": "execute_result"
    }
   ],
   "source": [
    "raw_data.drop(['dropoff_datetime', 'passenger_count', 'distance',\n",
    "           'dropoff_lon', 'dropoff_lat'], axis=1, inplace=True)\n",
    "\n",
    "raw_data.columns = ['datetime', 'lon', 'lat']\n",
    "\n",
    "raw_data.head(3)"
   ]
  },
  {
   "cell_type": "markdown",
   "metadata": {
    "hide_input": false
   },
   "source": [
    "## Limit for a smaller area\n",
    "\n",
    "Use area selected manually using http://geojson.io/#map=15/40.7357/-73.9889"
   ]
  },
  {
   "cell_type": "code",
   "execution_count": 131,
   "metadata": {},
   "outputs": [
    {
     "name": "stdout",
     "output_type": "stream",
     "text": [
      "Dataset size: 41988051\n",
      "Sample size: 2750089\n"
     ]
    }
   ],
   "source": [
    "bbox = ((-73.996, -73.9817), (40.7308, 40.7416))\n",
    "\n",
    "(min_lon, max_lon), (min_lat, max_lat) = bbox\n",
    "\n",
    "idx = (data.lat >= min_lat) & (data.lat <= max_lat)\n",
    "idx = idx & (data.lon >= min_lon) & (data.lon <= max_lon)\n",
    "\n",
    "print(f'Dataset size: {raw_data.shape[0]}')\n",
    "print(f'Sample size: {idx.sum()}')\n",
    "\n",
    "data = raw_data[idx].reset_index(drop=True);"
   ]
  },
  {
   "cell_type": "markdown",
   "metadata": {},
   "source": [
    "Demand per day stats:"
   ]
  },
  {
   "cell_type": "code",
   "execution_count": 132,
   "metadata": {
    "scrolled": true
   },
   "outputs": [
    {
     "data": {
      "text/plain": [
       "count      120.000000\n",
       "mean     22917.408333\n",
       "std       3606.016374\n",
       "min       7588.000000\n",
       "25%      21055.500000\n",
       "50%      23054.000000\n",
       "75%      25072.500000\n",
       "max      32858.000000\n",
       "Name: datetime, dtype: float64"
      ]
     },
     "execution_count": 132,
     "metadata": {},
     "output_type": "execute_result"
    }
   ],
   "source": [
    "data.datetime.dt.date.value_counts().describe()"
   ]
  },
  {
   "cell_type": "markdown",
   "metadata": {},
   "source": [
    "## Round time"
   ]
  },
  {
   "cell_type": "code",
   "execution_count": 133,
   "metadata": {},
   "outputs": [
    {
     "data": {
      "text/html": [
       "<div>\n",
       "<style scoped>\n",
       "    .dataframe tbody tr th:only-of-type {\n",
       "        vertical-align: middle;\n",
       "    }\n",
       "\n",
       "    .dataframe tbody tr th {\n",
       "        vertical-align: top;\n",
       "    }\n",
       "\n",
       "    .dataframe thead th {\n",
       "        text-align: right;\n",
       "    }\n",
       "</style>\n",
       "<table border=\"1\" class=\"dataframe\">\n",
       "  <thead>\n",
       "    <tr style=\"text-align: right;\">\n",
       "      <th></th>\n",
       "      <th>datetime</th>\n",
       "      <th>lon</th>\n",
       "      <th>lat</th>\n",
       "    </tr>\n",
       "  </thead>\n",
       "  <tbody>\n",
       "    <tr>\n",
       "      <th>580314</th>\n",
       "      <td>2015-01-26 16:00:00</td>\n",
       "      <td>-73.989235</td>\n",
       "      <td>40.734192</td>\n",
       "    </tr>\n",
       "    <tr>\n",
       "      <th>776683</th>\n",
       "      <td>2015-02-04 21:30:00</td>\n",
       "      <td>-73.991020</td>\n",
       "      <td>40.737991</td>\n",
       "    </tr>\n",
       "    <tr>\n",
       "      <th>1385914</th>\n",
       "      <td>2015-03-01 15:00:00</td>\n",
       "      <td>-73.994812</td>\n",
       "      <td>40.739868</td>\n",
       "    </tr>\n",
       "    <tr>\n",
       "      <th>264424</th>\n",
       "      <td>2015-01-13 12:30:00</td>\n",
       "      <td>-73.988190</td>\n",
       "      <td>40.737839</td>\n",
       "    </tr>\n",
       "    <tr>\n",
       "      <th>1693652</th>\n",
       "      <td>2015-03-15 03:50:00</td>\n",
       "      <td>-73.985069</td>\n",
       "      <td>40.732456</td>\n",
       "    </tr>\n",
       "  </tbody>\n",
       "</table>\n",
       "</div>"
      ],
      "text/plain": [
       "                   datetime        lon        lat\n",
       "580314  2015-01-26 16:00:00 -73.989235  40.734192\n",
       "776683  2015-02-04 21:30:00 -73.991020  40.737991\n",
       "1385914 2015-03-01 15:00:00 -73.994812  40.739868\n",
       "264424  2015-01-13 12:30:00 -73.988190  40.737839\n",
       "1693652 2015-03-15 03:50:00 -73.985069  40.732456"
      ]
     },
     "execution_count": 133,
     "metadata": {},
     "output_type": "execute_result"
    }
   ],
   "source": [
    "data.datetime = data.datetime.dt.round('10min')\n",
    "\n",
    "data.sample(5)"
   ]
  },
  {
   "cell_type": "markdown",
   "metadata": {},
   "source": [
    "Create a grid and count the *number of requests per cell*"
   ]
  },
  {
   "cell_type": "code",
   "execution_count": 138,
   "metadata": {},
   "outputs": [
    {
     "data": {
      "image/png": "[encoded data removed]",
      "text/plain": [
       "<Figure size 720x432 with 1 Axes>"
      ]
     },
     "metadata": {
      "needs_background": "light"
     },
     "output_type": "display_data"
    }
   ],
   "source": [
    "plt.figure(figsize=(10, 6))\n",
    "\n",
    "plt.hist2d(data.lon, data.lat, bins=50);\n",
    "plt.title('lon/lat histogram');\n",
    "plt.xlabel('lon');\n",
    "plt.ylabel('lat');"
   ]
  },
  {
   "cell_type": "markdown",
   "metadata": {},
   "source": [
    "## Number of requests"
   ]
  },
  {
   "cell_type": "code",
   "execution_count": 187,
   "metadata": {},
   "outputs": [
    {
     "data": {
      "image/png": "[encoded data removed]",
      "text/plain": [
       "<Figure size 1080x576 with 1 Axes>"
      ]
     },
     "metadata": {
      "needs_background": "light"
     },
     "output_type": "display_data"
    }
   ],
   "source": [
    "plt.figure(figsize=(15, 8))\n",
    "\n",
    "plt.title('Number of requests')\n",
    "data.groupby(data.datetime.dt.round('12h')).datetime.count().plot(label='12 hours')\n",
    "data.groupby(data.datetime.dt.round('48h')).datetime.count().plot(label='48 hours')\n",
    "plt.legend();"
   ]
  },
  {
   "cell_type": "markdown",
   "metadata": {},
   "source": [
    "## Create grid"
   ]
  },
  {
   "cell_type": "markdown",
   "metadata": {},
   "source": [
    "### Area size"
   ]
  },
  {
   "cell_type": "code",
   "execution_count": 221,
   "metadata": {},
   "outputs": [
    {
     "name": "stdout",
     "output_type": "stream",
     "text": [
      "Area size is 1.20 x 1.20 km\n"
     ]
    }
   ],
   "source": [
    "import haversine\n",
    "\n",
    "point1 = (bbox[1][0], bbox[0][0])\n",
    "point2 = (bbox[1][0], bbox[0][1])\n",
    "point3 = (bbox[1][1], bbox[0][0])\n",
    "\n",
    "dx = haversine.haversine(point1, point2)\n",
    "dy = haversine.haversine(point1, point3)\n",
    "\n",
    "print(f'Area size is {dx:.2f} x {dy:.2f} km')"
   ]
  },
  {
   "cell_type": "markdown",
   "metadata": {},
   "source": [
    "### Cells\n",
    "\n",
    "Create 50x50 meters cells"
   ]
  },
  {
   "cell_type": "code",
   "execution_count": 222,
   "metadata": {},
   "outputs": [
    {
     "data": {
      "text/html": [
       "<div>\n",
       "<style scoped>\n",
       "    .dataframe tbody tr th:only-of-type {\n",
       "        vertical-align: middle;\n",
       "    }\n",
       "\n",
       "    .dataframe tbody tr th {\n",
       "        vertical-align: top;\n",
       "    }\n",
       "\n",
       "    .dataframe thead th {\n",
       "        text-align: right;\n",
       "    }\n",
       "</style>\n",
       "<table border=\"1\" class=\"dataframe\">\n",
       "  <thead>\n",
       "    <tr style=\"text-align: right;\">\n",
       "      <th></th>\n",
       "      <th>datetime</th>\n",
       "      <th>lon</th>\n",
       "      <th>lat</th>\n",
       "      <th>x_cell</th>\n",
       "      <th>y_cell</th>\n",
       "      <th>cell</th>\n",
       "    </tr>\n",
       "  </thead>\n",
       "  <tbody>\n",
       "    <tr>\n",
       "      <th>0</th>\n",
       "      <td>2015-01-01</td>\n",
       "      <td>-73.986000</td>\n",
       "      <td>40.740601</td>\n",
       "      <td>17</td>\n",
       "      <td>21</td>\n",
       "      <td>17-21</td>\n",
       "    </tr>\n",
       "    <tr>\n",
       "      <th>1</th>\n",
       "      <td>2015-01-01</td>\n",
       "      <td>-73.990891</td>\n",
       "      <td>40.738850</td>\n",
       "      <td>9</td>\n",
       "      <td>18</td>\n",
       "      <td>9-18</td>\n",
       "    </tr>\n",
       "    <tr>\n",
       "      <th>2</th>\n",
       "      <td>2015-01-01</td>\n",
       "      <td>-73.990509</td>\n",
       "      <td>40.735027</td>\n",
       "      <td>9</td>\n",
       "      <td>10</td>\n",
       "      <td>9-10</td>\n",
       "    </tr>\n",
       "    <tr>\n",
       "      <th>3</th>\n",
       "      <td>2015-01-01</td>\n",
       "      <td>-73.987442</td>\n",
       "      <td>40.733410</td>\n",
       "      <td>14</td>\n",
       "      <td>6</td>\n",
       "      <td>14-6</td>\n",
       "    </tr>\n",
       "    <tr>\n",
       "      <th>4</th>\n",
       "      <td>2015-01-01</td>\n",
       "      <td>-73.985779</td>\n",
       "      <td>40.731773</td>\n",
       "      <td>17</td>\n",
       "      <td>3</td>\n",
       "      <td>17-3</td>\n",
       "    </tr>\n",
       "  </tbody>\n",
       "</table>\n",
       "</div>"
      ],
      "text/plain": [
       "    datetime        lon        lat  x_cell  y_cell   cell\n",
       "0 2015-01-01 -73.986000  40.740601      17      21  17-21\n",
       "1 2015-01-01 -73.990891  40.738850       9      18   9-18\n",
       "2 2015-01-01 -73.990509  40.735027       9      10   9-10\n",
       "3 2015-01-01 -73.987442  40.733410      14       6   14-6\n",
       "4 2015-01-01 -73.985779  40.731773      17       3   17-3"
      ]
     },
     "execution_count": 222,
     "metadata": {},
     "output_type": "execute_result"
    }
   ],
   "source": [
    "# cell_size x cell_size grid\n",
    "cell_size = 24\n",
    "\n",
    "xcells = np.linspace(bbox[0][0], bbox[0][1], cell_size)\n",
    "data['x_cell'] = np.digitize(data.lon, xcells)\n",
    "\n",
    "ycells = np.linspace(bbox[1][0], bbox[1][1], cell_size)\n",
    "data['y_cell'] = np.digitize(data.lat, ycells)\n",
    "\n",
    "data['cell'] = data.apply(\n",
    "    lambda item: '{}-{}'.format(item.x_cell, item.y_cell), axis=1)\n",
    "\n",
    "data.head(5)"
   ]
  },
  {
   "cell_type": "code",
   "execution_count": 226,
   "metadata": {},
   "outputs": [
    {
     "data": {
      "image/png": "[encoded data removed]",
      "text/plain": [
       "<Figure size 720x432 with 1 Axes>"
      ]
     },
     "metadata": {
      "needs_background": "light"
     },
     "output_type": "display_data"
    }
   ],
   "source": [
    "plt.figure(figsize=(10, 6))\n",
    "\n",
    "plt.title('Distribution of requests per cell per time step')\n",
    "plt.hist(demand_data.groupby(['datetime', 'cell']).cell.count(), bins=50);"
   ]
  },
  {
   "cell_type": "markdown",
   "metadata": {},
   "source": [
    "## Number of requests per hour"
   ]
  },
  {
   "cell_type": "code",
   "execution_count": null,
   "metadata": {},
   "outputs": [],
   "source": []
  },
  {
   "cell_type": "markdown",
   "metadata": {},
   "source": [
    "## Create a demand dataset\n",
    "\n",
    "* remove all data outside of the prediction area\n",
    "* remove unnecessary columns\n",
    "* create a grid and map each data point to a cell of the grid"
   ]
  },
  {
   "cell_type": "markdown",
   "metadata": {},
   "source": [
    "### Demand dataset"
   ]
  },
  {
   "cell_type": "code",
   "execution_count": null,
   "metadata": {},
   "outputs": [],
   "source": [
    "demand_data = data[\n",
    "    (data.pickup_lon >= sample_box[0][0]) &\n",
    "    (data.pickup_lon <= sample_box[0][1]) &\n",
    "    (data.pickup_lat >= sample_box[1][0]) &\n",
    "    (data.pickup_lat <= sample_box[1][1])\n",
    "]\n",
    "\n",
    "demand_data = demand_data[['pickup_datetime', 'pickup_lon', 'pickup_lat']]\n",
    "demand_data.columns = ['datetime', 'lon', 'lat']\n",
    "\n",
    "demand_data.datetime = demand_data.datetime.dt.round('30min')\n",
    "\n",
    "demand_data.head(3)"
   ]
  },
  {
   "cell_type": "code",
   "execution_count": null,
   "metadata": {},
   "outputs": [],
   "source": []
  },
  {
   "cell_type": "markdown",
   "metadata": {},
   "source": [
    "### Create a grid"
   ]
  },
  {
   "cell_type": "code",
   "execution_count": null,
   "metadata": {},
   "outputs": [],
   "source": [
    "# cell_size x cell_size grid\n",
    "cell_size = 20\n",
    "\n",
    "xcells = np.linspace(sample_box[0][0], sample_box[0][1], cell_size)\n",
    "demand_data['x_cell'] = np.digitize(demand_data.lon, xcells)\n",
    "\n",
    "ycells = np.linspace(sample_box[1][0], sample_box[1][1], cell_size)\n",
    "demand_data['y_cell'] = np.digitize(demand_data.lat, ycells)\n",
    "\n",
    "demand_data['cell'] = demand_data.apply(\n",
    "    lambda item: '{}-{}'.format(item.x_cell, item.y_cell), axis=1)\n",
    "\n",
    "demand_data.head(5)"
   ]
  },
  {
   "cell_type": "markdown",
   "metadata": {},
   "source": [
    "## Remove noise\n",
    "\n",
    "It doesn't make sense to predict demand in cells with very low number of requests. The question what level of demand is *low*?\n",
    "\n",
    "From a business point of view, for example a taxi company, it is important to predict locations and level of high demand, not areas with few requests per day."
   ]
  },
  {
   "cell_type": "code",
   "execution_count": null,
   "metadata": {},
   "outputs": [],
   "source": [
    "plt.figure(figsize=(20, 7))\n",
    "\n",
    "date = pd.to_datetime('2015-01-09')\n",
    "idx = demand_data.datetime.dt.date == date\n",
    "\n",
    "agg_demand = demand_data[idx].groupby('cell').cell.count()\n",
    "\n",
    "plt.subplot(121)\n",
    "plt.title(f'Requests per cell on {date}')\n",
    "plt.hist(agg_demand, bins=100)\n",
    "plt.xlabel('Num requests')\n",
    "\n",
    "plt.subplot(122)\n",
    "plt.boxplot(agg_demand, meanline=True)\n",
    "plt.title(f'Requests on {date}')\n",
    "plt.ylabel('Num requests');"
   ]
  },
  {
   "cell_type": "markdown",
   "metadata": {},
   "source": [
    "Detect areas with high demand per day, check how demand changes in those areas during some period of time"
   ]
  },
  {
   "cell_type": "code",
   "execution_count": null,
   "metadata": {},
   "outputs": [],
   "source": [
    "agg_demand.describe()"
   ]
  },
  {
   "cell_type": "code",
   "execution_count": null,
   "metadata": {},
   "outputs": [],
   "source": [
    "plt.hist(demand_data.groupby(['datetime', 'cell']).cell.count(), bins=50);"
   ]
  },
  {
   "cell_type": "code",
   "execution_count": null,
   "metadata": {},
   "outputs": [],
   "source": []
  },
  {
   "cell_type": "code",
   "execution_count": null,
   "metadata": {},
   "outputs": [],
   "source": []
  }
 ],
 "metadata": {
  "kernelspec": {
   "display_name": "Python 3",
   "language": "python",
   "name": "python3"
  },
  "language_info": {
   "codemirror_mode": {
    "name": "ipython",
    "version": 3
   },
   "file_extension": ".py",
   "mimetype": "text/x-python",
   "name": "python",
   "nbconvert_exporter": "python",
   "pygments_lexer": "ipython3",
   "version": "3.7.6"
  },
  "toc": {
   "base_numbering": 1,
   "nav_menu": {},
   "number_sections": false,
   "sideBar": true,
   "skip_h1_title": false,
   "title_cell": "Table of Contents",
   "title_sidebar": "Contents",
   "toc_cell": true,
   "toc_position": {
    "height": "calc(100% - 180px)",
    "left": "10px",
    "top": "150px",
    "width": "185px"
   },
   "toc_section_display": true,
   "toc_window_display": true
  },
  "varInspector": {
   "cols": {
    "lenName": 16,
    "lenType": 16,
    "lenVar": 40
   },
   "kernels_config": {
    "python": {
     "delete_cmd_postfix": "",
     "delete_cmd_prefix": "del ",
     "library": "var_list.py",
     "varRefreshCmd": "print(var_dic_list())"
    },
    "r": {
     "delete_cmd_postfix": ") ",
     "delete_cmd_prefix": "rm(",
     "library": "var_list.r",
     "varRefreshCmd": "cat(var_dic_list()) "
    }
   },
   "types_to_exclude": [
    "module",
    "function",
    "builtin_function_or_method",
    "instance",
    "_Feature"
   ],
   "window_display": false
  }
 },
 "nbformat": 4,
 "nbformat_minor": 2
}
